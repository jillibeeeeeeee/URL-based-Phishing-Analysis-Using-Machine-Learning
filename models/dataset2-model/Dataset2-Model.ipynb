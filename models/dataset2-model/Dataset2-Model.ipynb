{
 "cells": [
  {
   "cell_type": "markdown",
   "metadata": {},
   "source": [
    "# DATASET 2 MODEL TRAINING\n",
    "\n",
    "### 70% phishing | 30% benign"
   ]
  },
  {
   "cell_type": "markdown",
   "metadata": {},
   "source": [
    "## Import Library"
   ]
  },
  {
   "cell_type": "code",
   "execution_count": 1,
   "metadata": {},
   "outputs": [],
   "source": [
    "import numpy as np\n",
    "import pandas as pd\n",
    "from sklearn.utils import shuffle\n",
    "from sklearn.model_selection import train_test_split\n",
    "import seaborn as sns\n",
    "from matplotlib import pyplot as plt\n",
    "\n",
    "from sklearn.model_selection import train_test_split\n",
    "from sklearn.preprocessing import StandardScaler, MinMaxScaler\n",
    "\n",
    "from sklearn.metrics import confusion_matrix, classification_report, accuracy_score, precision_score, recall_score, f1_score\n",
    "\n",
    "\n",
    "# demonstration of calculating metrics for a neural network model using sklearn\n",
    "from sklearn.datasets import make_circles\n",
    "from sklearn.metrics import accuracy_score\n",
    "from sklearn.metrics import precision_score\n",
    "from sklearn.metrics import recall_score\n",
    "from sklearn.metrics import f1_score\n",
    "from sklearn.metrics import cohen_kappa_score\n",
    "from sklearn.metrics import roc_auc_score\n",
    "\n"
   ]
  },
  {
   "cell_type": "code",
   "execution_count": 2,
   "metadata": {},
   "outputs": [],
   "source": [
    "import numpy as np\n",
    "import tensorflow as tf\n",
    "import random as python_random\n",
    "\n",
    "def reset_seeds():\n",
    "    np.random.seed(123) \n",
    "    python_random.seed(123)\n",
    "    tf.random.set_seed(1234)\n",
    "\n",
    "reset_seeds() "
   ]
  },
  {
   "cell_type": "markdown",
   "metadata": {},
   "source": [
    "## Importing the dataset"
   ]
  },
  {
   "cell_type": "code",
   "execution_count": 3,
   "metadata": {},
   "outputs": [],
   "source": [
    "\n",
    "dataset = pd.read_csv(\"/Users/jillkathleen/Desktop/Phishing-Analysis-Detection/Back-End/Extracted CSVs/from FeatureExtraction/Data-2/D2-final-extracted.csv\")\n"
   ]
  },
  {
   "cell_type": "code",
   "execution_count": 4,
   "metadata": {
    "scrolled": false
   },
   "outputs": [
    {
     "data": {
      "text/html": [
       "<div>\n",
       "<style scoped>\n",
       "    .dataframe tbody tr th:only-of-type {\n",
       "        vertical-align: middle;\n",
       "    }\n",
       "\n",
       "    .dataframe tbody tr th {\n",
       "        vertical-align: top;\n",
       "    }\n",
       "\n",
       "    .dataframe thead th {\n",
       "        text-align: right;\n",
       "    }\n",
       "</style>\n",
       "<table border=\"1\" class=\"dataframe\">\n",
       "  <thead>\n",
       "    <tr style=\"text-align: right;\">\n",
       "      <th></th>\n",
       "      <th>domain</th>\n",
       "      <th>ip_present</th>\n",
       "      <th>at_present</th>\n",
       "      <th>url_length</th>\n",
       "      <th>url_depth</th>\n",
       "      <th>redirection</th>\n",
       "      <th>https_domain</th>\n",
       "      <th>short_url</th>\n",
       "      <th>prefix/suffix</th>\n",
       "      <th>dns_record</th>\n",
       "      <th>web_traffic</th>\n",
       "      <th>domain_age</th>\n",
       "      <th>domain_end</th>\n",
       "      <th>dot_count</th>\n",
       "      <th>specialchar_count</th>\n",
       "      <th>subdom_count</th>\n",
       "      <th>label</th>\n",
       "    </tr>\n",
       "  </thead>\n",
       "  <tbody>\n",
       "    <tr>\n",
       "      <th>0</th>\n",
       "      <td>NaN</td>\n",
       "      <td>0</td>\n",
       "      <td>0</td>\n",
       "      <td>0</td>\n",
       "      <td>2</td>\n",
       "      <td>0</td>\n",
       "      <td>0</td>\n",
       "      <td>0</td>\n",
       "      <td>0</td>\n",
       "      <td>0</td>\n",
       "      <td>1</td>\n",
       "      <td>1</td>\n",
       "      <td>1</td>\n",
       "      <td>0</td>\n",
       "      <td>2</td>\n",
       "      <td>0</td>\n",
       "      <td>0</td>\n",
       "    </tr>\n",
       "    <tr>\n",
       "      <th>1</th>\n",
       "      <td>NaN</td>\n",
       "      <td>0</td>\n",
       "      <td>0</td>\n",
       "      <td>0</td>\n",
       "      <td>2</td>\n",
       "      <td>0</td>\n",
       "      <td>0</td>\n",
       "      <td>0</td>\n",
       "      <td>0</td>\n",
       "      <td>0</td>\n",
       "      <td>1</td>\n",
       "      <td>1</td>\n",
       "      <td>1</td>\n",
       "      <td>0</td>\n",
       "      <td>3</td>\n",
       "      <td>1</td>\n",
       "      <td>0</td>\n",
       "    </tr>\n",
       "    <tr>\n",
       "      <th>2</th>\n",
       "      <td>NaN</td>\n",
       "      <td>0</td>\n",
       "      <td>0</td>\n",
       "      <td>0</td>\n",
       "      <td>2</td>\n",
       "      <td>0</td>\n",
       "      <td>0</td>\n",
       "      <td>0</td>\n",
       "      <td>0</td>\n",
       "      <td>0</td>\n",
       "      <td>1</td>\n",
       "      <td>1</td>\n",
       "      <td>1</td>\n",
       "      <td>1</td>\n",
       "      <td>2</td>\n",
       "      <td>1</td>\n",
       "      <td>0</td>\n",
       "    </tr>\n",
       "    <tr>\n",
       "      <th>3</th>\n",
       "      <td>NaN</td>\n",
       "      <td>0</td>\n",
       "      <td>0</td>\n",
       "      <td>0</td>\n",
       "      <td>4</td>\n",
       "      <td>0</td>\n",
       "      <td>0</td>\n",
       "      <td>0</td>\n",
       "      <td>0</td>\n",
       "      <td>0</td>\n",
       "      <td>1</td>\n",
       "      <td>1</td>\n",
       "      <td>1</td>\n",
       "      <td>0</td>\n",
       "      <td>4</td>\n",
       "      <td>0</td>\n",
       "      <td>0</td>\n",
       "    </tr>\n",
       "    <tr>\n",
       "      <th>4</th>\n",
       "      <td>NaN</td>\n",
       "      <td>0</td>\n",
       "      <td>0</td>\n",
       "      <td>1</td>\n",
       "      <td>5</td>\n",
       "      <td>0</td>\n",
       "      <td>0</td>\n",
       "      <td>0</td>\n",
       "      <td>0</td>\n",
       "      <td>0</td>\n",
       "      <td>0</td>\n",
       "      <td>1</td>\n",
       "      <td>1</td>\n",
       "      <td>1</td>\n",
       "      <td>4</td>\n",
       "      <td>0</td>\n",
       "      <td>0</td>\n",
       "    </tr>\n",
       "    <tr>\n",
       "      <th>...</th>\n",
       "      <td>...</td>\n",
       "      <td>...</td>\n",
       "      <td>...</td>\n",
       "      <td>...</td>\n",
       "      <td>...</td>\n",
       "      <td>...</td>\n",
       "      <td>...</td>\n",
       "      <td>...</td>\n",
       "      <td>...</td>\n",
       "      <td>...</td>\n",
       "      <td>...</td>\n",
       "      <td>...</td>\n",
       "      <td>...</td>\n",
       "      <td>...</td>\n",
       "      <td>...</td>\n",
       "      <td>...</td>\n",
       "      <td>...</td>\n",
       "    </tr>\n",
       "    <tr>\n",
       "      <th>14785</th>\n",
       "      <td>paypial-us.com</td>\n",
       "      <td>0</td>\n",
       "      <td>0</td>\n",
       "      <td>0</td>\n",
       "      <td>0</td>\n",
       "      <td>0</td>\n",
       "      <td>0</td>\n",
       "      <td>0</td>\n",
       "      <td>1</td>\n",
       "      <td>0</td>\n",
       "      <td>1</td>\n",
       "      <td>0</td>\n",
       "      <td>0</td>\n",
       "      <td>0</td>\n",
       "      <td>4</td>\n",
       "      <td>0</td>\n",
       "      <td>1</td>\n",
       "    </tr>\n",
       "    <tr>\n",
       "      <th>14786</th>\n",
       "      <td>dev.klinikmatanusantara.com</td>\n",
       "      <td>0</td>\n",
       "      <td>0</td>\n",
       "      <td>1</td>\n",
       "      <td>5</td>\n",
       "      <td>0</td>\n",
       "      <td>0</td>\n",
       "      <td>0</td>\n",
       "      <td>0</td>\n",
       "      <td>0</td>\n",
       "      <td>0</td>\n",
       "      <td>0</td>\n",
       "      <td>1</td>\n",
       "      <td>0</td>\n",
       "      <td>8</td>\n",
       "      <td>1</td>\n",
       "      <td>1</td>\n",
       "    </tr>\n",
       "    <tr>\n",
       "      <th>14787</th>\n",
       "      <td>cp.kinex11.info</td>\n",
       "      <td>0</td>\n",
       "      <td>0</td>\n",
       "      <td>1</td>\n",
       "      <td>7</td>\n",
       "      <td>0</td>\n",
       "      <td>0</td>\n",
       "      <td>0</td>\n",
       "      <td>0</td>\n",
       "      <td>0</td>\n",
       "      <td>1</td>\n",
       "      <td>0</td>\n",
       "      <td>0</td>\n",
       "      <td>1</td>\n",
       "      <td>10</td>\n",
       "      <td>1</td>\n",
       "      <td>1</td>\n",
       "    </tr>\n",
       "    <tr>\n",
       "      <th>14788</th>\n",
       "      <td>sieck-kuehlsysteme.de</td>\n",
       "      <td>0</td>\n",
       "      <td>1</td>\n",
       "      <td>1</td>\n",
       "      <td>4</td>\n",
       "      <td>0</td>\n",
       "      <td>0</td>\n",
       "      <td>1</td>\n",
       "      <td>1</td>\n",
       "      <td>0</td>\n",
       "      <td>1</td>\n",
       "      <td>1</td>\n",
       "      <td>1</td>\n",
       "      <td>1</td>\n",
       "      <td>10</td>\n",
       "      <td>0</td>\n",
       "      <td>1</td>\n",
       "    </tr>\n",
       "    <tr>\n",
       "      <th>14789</th>\n",
       "      <td>pateltutorials.com</td>\n",
       "      <td>0</td>\n",
       "      <td>1</td>\n",
       "      <td>1</td>\n",
       "      <td>3</td>\n",
       "      <td>0</td>\n",
       "      <td>0</td>\n",
       "      <td>0</td>\n",
       "      <td>0</td>\n",
       "      <td>0</td>\n",
       "      <td>0</td>\n",
       "      <td>0</td>\n",
       "      <td>1</td>\n",
       "      <td>0</td>\n",
       "      <td>9</td>\n",
       "      <td>0</td>\n",
       "      <td>1</td>\n",
       "    </tr>\n",
       "  </tbody>\n",
       "</table>\n",
       "<p>14790 rows × 17 columns</p>\n",
       "</div>"
      ],
      "text/plain": [
       "                            domain  ip_present  at_present  url_length  \\\n",
       "0                              NaN           0           0           0   \n",
       "1                              NaN           0           0           0   \n",
       "2                              NaN           0           0           0   \n",
       "3                              NaN           0           0           0   \n",
       "4                              NaN           0           0           1   \n",
       "...                            ...         ...         ...         ...   \n",
       "14785               paypial-us.com           0           0           0   \n",
       "14786  dev.klinikmatanusantara.com           0           0           1   \n",
       "14787              cp.kinex11.info           0           0           1   \n",
       "14788        sieck-kuehlsysteme.de           0           1           1   \n",
       "14789           pateltutorials.com           0           1           1   \n",
       "\n",
       "       url_depth  redirection  https_domain  short_url  prefix/suffix  \\\n",
       "0              2            0             0          0              0   \n",
       "1              2            0             0          0              0   \n",
       "2              2            0             0          0              0   \n",
       "3              4            0             0          0              0   \n",
       "4              5            0             0          0              0   \n",
       "...          ...          ...           ...        ...            ...   \n",
       "14785          0            0             0          0              1   \n",
       "14786          5            0             0          0              0   \n",
       "14787          7            0             0          0              0   \n",
       "14788          4            0             0          1              1   \n",
       "14789          3            0             0          0              0   \n",
       "\n",
       "       dns_record  web_traffic  domain_age  domain_end  dot_count  \\\n",
       "0               0            1           1           1          0   \n",
       "1               0            1           1           1          0   \n",
       "2               0            1           1           1          1   \n",
       "3               0            1           1           1          0   \n",
       "4               0            0           1           1          1   \n",
       "...           ...          ...         ...         ...        ...   \n",
       "14785           0            1           0           0          0   \n",
       "14786           0            0           0           1          0   \n",
       "14787           0            1           0           0          1   \n",
       "14788           0            1           1           1          1   \n",
       "14789           0            0           0           1          0   \n",
       "\n",
       "       specialchar_count  subdom_count  label  \n",
       "0                      2             0      0  \n",
       "1                      3             1      0  \n",
       "2                      2             1      0  \n",
       "3                      4             0      0  \n",
       "4                      4             0      0  \n",
       "...                  ...           ...    ...  \n",
       "14785                  4             0      1  \n",
       "14786                  8             1      1  \n",
       "14787                 10             1      1  \n",
       "14788                 10             0      1  \n",
       "14789                  9             0      1  \n",
       "\n",
       "[14790 rows x 17 columns]"
      ]
     },
     "execution_count": 4,
     "metadata": {},
     "output_type": "execute_result"
    }
   ],
   "source": [
    "dataset"
   ]
  },
  {
   "cell_type": "code",
   "execution_count": 5,
   "metadata": {},
   "outputs": [
    {
     "data": {
      "text/plain": [
       "domain               4437\n",
       "ip_present              0\n",
       "at_present              0\n",
       "url_length              0\n",
       "url_depth               0\n",
       "redirection             0\n",
       "https_domain            0\n",
       "short_url               0\n",
       "prefix/suffix           0\n",
       "dns_record              0\n",
       "web_traffic             0\n",
       "domain_age              0\n",
       "domain_end              0\n",
       "dot_count               0\n",
       "specialchar_count       0\n",
       "subdom_count            0\n",
       "label                   0\n",
       "dtype: int64"
      ]
     },
     "execution_count": 5,
     "metadata": {},
     "output_type": "execute_result"
    }
   ],
   "source": [
    "# Look for missing values\n",
    "dataset.isnull().sum()   \n",
    "\n",
    "# No missing values found, so no need to drop or replace any value"
   ]
  },
  {
   "cell_type": "code",
   "execution_count": 6,
   "metadata": {},
   "outputs": [
    {
     "name": "stderr",
     "output_type": "stream",
     "text": [
      "/opt/anaconda3/lib/python3.8/site-packages/seaborn/_decorators.py:36: FutureWarning: Pass the following variable as a keyword arg: x. From version 0.12, the only valid positional argument will be `data`, and passing other arguments without an explicit keyword will result in an error or misinterpretation.\n",
      "  warnings.warn(\n"
     ]
    },
    {
     "data": {
      "text/plain": [
       "1    10353\n",
       "0     4437\n",
       "Name: label, dtype: int64"
      ]
     },
     "execution_count": 6,
     "metadata": {},
     "output_type": "execute_result"
    },
    {
     "data": {
      "image/png": "[encoded data removed]",
      "text/plain": [
       "<Figure size 792x432 with 1 Axes>"
      ]
     },
     "metadata": {
      "needs_background": "light"
     },
     "output_type": "display_data"
    }
   ],
   "source": [
    "# visualize number of label classes\n",
    "\n",
    "plt.figure(figsize=(11,6))\n",
    "g = sns.countplot(dataset['label'], palette=\"icefire\")\n",
    "plt.title(\"Number of digit classes\")\n",
    "dataset['label'].value_counts()"
   ]
  },
  {
   "cell_type": "code",
   "execution_count": 7,
   "metadata": {},
   "outputs": [
    {
     "data": {
      "text/html": [
       "<div>\n",
       "<style scoped>\n",
       "    .dataframe tbody tr th:only-of-type {\n",
       "        vertical-align: middle;\n",
       "    }\n",
       "\n",
       "    .dataframe tbody tr th {\n",
       "        vertical-align: top;\n",
       "    }\n",
       "\n",
       "    .dataframe thead th {\n",
       "        text-align: right;\n",
       "    }\n",
       "</style>\n",
       "<table border=\"1\" class=\"dataframe\">\n",
       "  <thead>\n",
       "    <tr style=\"text-align: right;\">\n",
       "      <th></th>\n",
       "      <th>domain</th>\n",
       "      <th>ip_present</th>\n",
       "      <th>at_present</th>\n",
       "      <th>url_length</th>\n",
       "      <th>url_depth</th>\n",
       "      <th>redirection</th>\n",
       "      <th>https_domain</th>\n",
       "      <th>short_url</th>\n",
       "      <th>prefix/suffix</th>\n",
       "      <th>dns_record</th>\n",
       "      <th>web_traffic</th>\n",
       "      <th>domain_age</th>\n",
       "      <th>domain_end</th>\n",
       "      <th>dot_count</th>\n",
       "      <th>specialchar_count</th>\n",
       "      <th>subdom_count</th>\n",
       "      <th>label</th>\n",
       "    </tr>\n",
       "  </thead>\n",
       "  <tbody>\n",
       "    <tr>\n",
       "      <th>10394</th>\n",
       "      <td>naverbot.com</td>\n",
       "      <td>0</td>\n",
       "      <td>0</td>\n",
       "      <td>0</td>\n",
       "      <td>2</td>\n",
       "      <td>0</td>\n",
       "      <td>0</td>\n",
       "      <td>1</td>\n",
       "      <td>0</td>\n",
       "      <td>0</td>\n",
       "      <td>0</td>\n",
       "      <td>0</td>\n",
       "      <td>1</td>\n",
       "      <td>0</td>\n",
       "      <td>6</td>\n",
       "      <td>0</td>\n",
       "      <td>1</td>\n",
       "    </tr>\n",
       "    <tr>\n",
       "      <th>6271</th>\n",
       "      <td>creativecombat.com</td>\n",
       "      <td>0</td>\n",
       "      <td>0</td>\n",
       "      <td>1</td>\n",
       "      <td>4</td>\n",
       "      <td>0</td>\n",
       "      <td>0</td>\n",
       "      <td>1</td>\n",
       "      <td>0</td>\n",
       "      <td>0</td>\n",
       "      <td>1</td>\n",
       "      <td>1</td>\n",
       "      <td>1</td>\n",
       "      <td>0</td>\n",
       "      <td>7</td>\n",
       "      <td>0</td>\n",
       "      <td>1</td>\n",
       "    </tr>\n",
       "    <tr>\n",
       "      <th>4745</th>\n",
       "      <td>encryptdrive.booogle.net</td>\n",
       "      <td>0</td>\n",
       "      <td>0</td>\n",
       "      <td>1</td>\n",
       "      <td>0</td>\n",
       "      <td>0</td>\n",
       "      <td>0</td>\n",
       "      <td>0</td>\n",
       "      <td>0</td>\n",
       "      <td>0</td>\n",
       "      <td>0</td>\n",
       "      <td>1</td>\n",
       "      <td>1</td>\n",
       "      <td>0</td>\n",
       "      <td>12</td>\n",
       "      <td>1</td>\n",
       "      <td>1</td>\n",
       "    </tr>\n",
       "    <tr>\n",
       "      <th>10158</th>\n",
       "      <td>millenniaco-my.sharepoint.com</td>\n",
       "      <td>0</td>\n",
       "      <td>0</td>\n",
       "      <td>1</td>\n",
       "      <td>5</td>\n",
       "      <td>0</td>\n",
       "      <td>0</td>\n",
       "      <td>1</td>\n",
       "      <td>1</td>\n",
       "      <td>0</td>\n",
       "      <td>1</td>\n",
       "      <td>1</td>\n",
       "      <td>1</td>\n",
       "      <td>0</td>\n",
       "      <td>18</td>\n",
       "      <td>1</td>\n",
       "      <td>1</td>\n",
       "    </tr>\n",
       "    <tr>\n",
       "      <th>4993</th>\n",
       "      <td>stolizaparketa.ru</td>\n",
       "      <td>0</td>\n",
       "      <td>1</td>\n",
       "      <td>1</td>\n",
       "      <td>7</td>\n",
       "      <td>0</td>\n",
       "      <td>0</td>\n",
       "      <td>0</td>\n",
       "      <td>0</td>\n",
       "      <td>0</td>\n",
       "      <td>1</td>\n",
       "      <td>0</td>\n",
       "      <td>0</td>\n",
       "      <td>1</td>\n",
       "      <td>12</td>\n",
       "      <td>0</td>\n",
       "      <td>1</td>\n",
       "    </tr>\n",
       "    <tr>\n",
       "      <th>...</th>\n",
       "      <td>...</td>\n",
       "      <td>...</td>\n",
       "      <td>...</td>\n",
       "      <td>...</td>\n",
       "      <td>...</td>\n",
       "      <td>...</td>\n",
       "      <td>...</td>\n",
       "      <td>...</td>\n",
       "      <td>...</td>\n",
       "      <td>...</td>\n",
       "      <td>...</td>\n",
       "      <td>...</td>\n",
       "      <td>...</td>\n",
       "      <td>...</td>\n",
       "      <td>...</td>\n",
       "      <td>...</td>\n",
       "      <td>...</td>\n",
       "    </tr>\n",
       "    <tr>\n",
       "      <th>5191</th>\n",
       "      <td>xj45o.mjt.lu</td>\n",
       "      <td>0</td>\n",
       "      <td>0</td>\n",
       "      <td>1</td>\n",
       "      <td>5</td>\n",
       "      <td>0</td>\n",
       "      <td>0</td>\n",
       "      <td>0</td>\n",
       "      <td>0</td>\n",
       "      <td>0</td>\n",
       "      <td>1</td>\n",
       "      <td>1</td>\n",
       "      <td>1</td>\n",
       "      <td>0</td>\n",
       "      <td>8</td>\n",
       "      <td>1</td>\n",
       "      <td>1</td>\n",
       "    </tr>\n",
       "    <tr>\n",
       "      <th>13418</th>\n",
       "      <td>sexy-grup-join18.duckdns.org</td>\n",
       "      <td>0</td>\n",
       "      <td>0</td>\n",
       "      <td>0</td>\n",
       "      <td>1</td>\n",
       "      <td>0</td>\n",
       "      <td>0</td>\n",
       "      <td>0</td>\n",
       "      <td>1</td>\n",
       "      <td>0</td>\n",
       "      <td>1</td>\n",
       "      <td>1</td>\n",
       "      <td>1</td>\n",
       "      <td>1</td>\n",
       "      <td>4</td>\n",
       "      <td>1</td>\n",
       "      <td>1</td>\n",
       "    </tr>\n",
       "    <tr>\n",
       "      <th>5390</th>\n",
       "      <td>fb-updates-1000151020200412545154000585-mc.tk</td>\n",
       "      <td>0</td>\n",
       "      <td>0</td>\n",
       "      <td>1</td>\n",
       "      <td>1</td>\n",
       "      <td>0</td>\n",
       "      <td>0</td>\n",
       "      <td>0</td>\n",
       "      <td>1</td>\n",
       "      <td>0</td>\n",
       "      <td>1</td>\n",
       "      <td>1</td>\n",
       "      <td>1</td>\n",
       "      <td>0</td>\n",
       "      <td>4</td>\n",
       "      <td>0</td>\n",
       "      <td>1</td>\n",
       "    </tr>\n",
       "    <tr>\n",
       "      <th>860</th>\n",
       "      <td>NaN</td>\n",
       "      <td>0</td>\n",
       "      <td>0</td>\n",
       "      <td>0</td>\n",
       "      <td>2</td>\n",
       "      <td>0</td>\n",
       "      <td>0</td>\n",
       "      <td>0</td>\n",
       "      <td>0</td>\n",
       "      <td>0</td>\n",
       "      <td>0</td>\n",
       "      <td>1</td>\n",
       "      <td>1</td>\n",
       "      <td>0</td>\n",
       "      <td>2</td>\n",
       "      <td>0</td>\n",
       "      <td>0</td>\n",
       "    </tr>\n",
       "    <tr>\n",
       "      <th>7270</th>\n",
       "      <td>allertmediawebconnectactivityalertqerwbvq.000w...</td>\n",
       "      <td>0</td>\n",
       "      <td>0</td>\n",
       "      <td>1</td>\n",
       "      <td>2</td>\n",
       "      <td>0</td>\n",
       "      <td>0</td>\n",
       "      <td>0</td>\n",
       "      <td>0</td>\n",
       "      <td>0</td>\n",
       "      <td>1</td>\n",
       "      <td>0</td>\n",
       "      <td>1</td>\n",
       "      <td>0</td>\n",
       "      <td>8</td>\n",
       "      <td>1</td>\n",
       "      <td>1</td>\n",
       "    </tr>\n",
       "  </tbody>\n",
       "</table>\n",
       "<p>14790 rows × 17 columns</p>\n",
       "</div>"
      ],
      "text/plain": [
       "                                                  domain  ip_present  \\\n",
       "10394                                       naverbot.com           0   \n",
       "6271                                  creativecombat.com           0   \n",
       "4745                            encryptdrive.booogle.net           0   \n",
       "10158                      millenniaco-my.sharepoint.com           0   \n",
       "4993                                   stolizaparketa.ru           0   \n",
       "...                                                  ...         ...   \n",
       "5191                                        xj45o.mjt.lu           0   \n",
       "13418                       sexy-grup-join18.duckdns.org           0   \n",
       "5390       fb-updates-1000151020200412545154000585-mc.tk           0   \n",
       "860                                                  NaN           0   \n",
       "7270   allertmediawebconnectactivityalertqerwbvq.000w...           0   \n",
       "\n",
       "       at_present  url_length  url_depth  redirection  https_domain  \\\n",
       "10394           0           0          2            0             0   \n",
       "6271            0           1          4            0             0   \n",
       "4745            0           1          0            0             0   \n",
       "10158           0           1          5            0             0   \n",
       "4993            1           1          7            0             0   \n",
       "...           ...         ...        ...          ...           ...   \n",
       "5191            0           1          5            0             0   \n",
       "13418           0           0          1            0             0   \n",
       "5390            0           1          1            0             0   \n",
       "860             0           0          2            0             0   \n",
       "7270            0           1          2            0             0   \n",
       "\n",
       "       short_url  prefix/suffix  dns_record  web_traffic  domain_age  \\\n",
       "10394          1              0           0            0           0   \n",
       "6271           1              0           0            1           1   \n",
       "4745           0              0           0            0           1   \n",
       "10158          1              1           0            1           1   \n",
       "4993           0              0           0            1           0   \n",
       "...          ...            ...         ...          ...         ...   \n",
       "5191           0              0           0            1           1   \n",
       "13418          0              1           0            1           1   \n",
       "5390           0              1           0            1           1   \n",
       "860            0              0           0            0           1   \n",
       "7270           0              0           0            1           0   \n",
       "\n",
       "       domain_end  dot_count  specialchar_count  subdom_count  label  \n",
       "10394           1          0                  6             0      1  \n",
       "6271            1          0                  7             0      1  \n",
       "4745            1          0                 12             1      1  \n",
       "10158           1          0                 18             1      1  \n",
       "4993            0          1                 12             0      1  \n",
       "...           ...        ...                ...           ...    ...  \n",
       "5191            1          0                  8             1      1  \n",
       "13418           1          1                  4             1      1  \n",
       "5390            1          0                  4             0      1  \n",
       "860             1          0                  2             0      0  \n",
       "7270            1          0                  8             1      1  \n",
       "\n",
       "[14790 rows x 17 columns]"
      ]
     },
     "execution_count": 7,
     "metadata": {},
     "output_type": "execute_result"
    }
   ],
   "source": [
    "# Shuffle\n",
    "# shuffle dataset **once**, but reliably so that each run yields the same results\n",
    "\n",
    "dataset_shuffle = shuffle(dataset, random_state=42)\n",
    "\n",
    "dataset_shuffle"
   ]
  },
  {
   "cell_type": "code",
   "execution_count": 8,
   "metadata": {},
   "outputs": [
    {
     "data": {
      "text/plain": [
       "((14790, 15), (14790,))"
      ]
     },
     "execution_count": 8,
     "metadata": {},
     "output_type": "execute_result"
    }
   ],
   "source": [
    "# Separating & assigning features and target columns to X & y\n",
    "\n",
    "y = dataset_shuffle['label']\n",
    "X = dataset_shuffle.drop(['domain', 'label'], axis=1)\n",
    "\n",
    "\n",
    "X.shape, y.shape"
   ]
  },
  {
   "cell_type": "markdown",
   "metadata": {},
   "source": [
    "# Split Train/Val/Test"
   ]
  },
  {
   "cell_type": "code",
   "execution_count": 9,
   "metadata": {},
   "outputs": [
    {
     "data": {
      "text/plain": [
       "((8874, 15), (2958, 15), (2958, 15))"
      ]
     },
     "execution_count": 9,
     "metadata": {},
     "output_type": "execute_result"
    }
   ],
   "source": [
    "# Spliting the dataset into Training, Validation, and Test Set\n",
    "\n",
    "X_train, X_test, y_train, y_test = train_test_split(X, y, stratify = y, \n",
    "                                                    test_size=0.4, random_state=42)\n",
    "\n",
    "X_test, X_val, y_test, y_val = train_test_split(X_test, y_test, test_size=0.5, random_state=42)\n",
    "\n",
    "\n",
    "X_train.shape, X_test.shape, X_val.shape"
   ]
  },
  {
   "cell_type": "code",
   "execution_count": 10,
   "metadata": {},
   "outputs": [],
   "source": [
    "# Converting target variables from dataframe to an array\n",
    "\n",
    "y_train = np.ravel(y_train)\n",
    "y_test = np.ravel(y_test)\n",
    "y_val = np.ravel(y_val)"
   ]
  },
  {
   "cell_type": "code",
   "execution_count": 11,
   "metadata": {},
   "outputs": [],
   "source": [
    "## Normalize data using StandardScaler\n",
    "\n",
    "scaler = StandardScaler()\n",
    "X_train = scaler.fit_transform(X_train)\n",
    "X_test = scaler.transform(X_test)\n",
    "X_val = scaler.transform(X_val)\n"
   ]
  },
  {
   "cell_type": "code",
   "execution_count": 12,
   "metadata": {},
   "outputs": [
    {
     "name": "stdout",
     "output_type": "stream",
     "text": [
      "[[ 0.         -0.17815862 -0.73454466 ... -0.80854549 -0.71287407\n",
      "  -0.94280904]\n",
      " [ 0.         -0.17815862 -0.73454466 ... -0.80854549 -0.33773059\n",
      "   1.06066017]\n",
      " [ 0.         -0.17815862  1.3613876  ... -0.80854549  1.72555854\n",
      "  -0.94280904]\n",
      " ...\n",
      " [ 0.         -0.17815862 -0.73454466 ...  1.23678879 -0.52530233\n",
      "   1.06066017]\n",
      " [ 0.         -0.17815862 -0.73454466 ... -0.80854549 -0.71287407\n",
      "  -0.94280904]\n",
      " [ 0.         -0.17815862  1.3613876  ... -0.80854549 -0.71287407\n",
      "  -0.94280904]]\n",
      "\n",
      "<class 'numpy.ndarray'>\n"
     ]
    }
   ],
   "source": [
    "\n",
    "print(X_train)\n",
    "print('')\n",
    "print(type(X_train))\n"
   ]
  },
  {
   "cell_type": "code",
   "execution_count": 13,
   "metadata": {},
   "outputs": [
    {
     "name": "stdout",
     "output_type": "stream",
     "text": [
      "(8874, 15)\n",
      "(2958, 15)\n",
      "(2958, 15)\n"
     ]
    }
   ],
   "source": [
    "print(X_train.shape)\n",
    "\n",
    "print(X_test.shape)\n",
    "\n",
    "print(X_val.shape)\n"
   ]
  },
  {
   "cell_type": "code",
   "execution_count": 14,
   "metadata": {},
   "outputs": [
    {
     "name": "stdout",
     "output_type": "stream",
     "text": [
      "Dimensions of the original dataset : 14790 rows and 15 columns\n",
      "\n",
      "Dimensions of the training dataset : 8874 rows and 15 columns\n",
      "\n",
      "Dimensions of the testing dataset : 2958 rows and 15 columns\n",
      "\n",
      "Dimensions of the validation dataset : 2958 rows and 15 columns\n",
      "\n"
     ]
    }
   ],
   "source": [
    "\n",
    "## Displaying the dimensions present in the dataset\n",
    "\n",
    "print(\"Dimensions of the original dataset :\",X.shape[0], \"rows and\",X.shape[1],\"columns\\n\")\n",
    "\n",
    "print(\"Dimensions of the training dataset :\",X_train.shape[0], \"rows and\",X_train.shape[1],\"columns\\n\")\n",
    "\n",
    "print(\"Dimensions of the testing dataset :\",X_test.shape[0], \"rows and\",X_test.shape[1],\"columns\\n\")\n",
    "\n",
    "print(\"Dimensions of the validation dataset :\",X_val.shape[0], \"rows and\",X_val.shape[1],\"columns\\n\")\n"
   ]
  },
  {
   "cell_type": "markdown",
   "metadata": {},
   "source": [
    "## Machine Learning Models & Training"
   ]
  },
  {
   "cell_type": "code",
   "execution_count": 15,
   "metadata": {},
   "outputs": [],
   "source": [
    "# Creating holders to store the model performance results\n",
    "ML_Model = []\n",
    "acc_train = []\n",
    "acc_test = []\n",
    "acc_val = []\n",
    "\n",
    "#function to call for storing the results\n",
    "def storeResults(model, a,b,c):\n",
    "    ML_Model.append(model)\n",
    "    acc_train.append(\"{:.2f}%\" .format (a, 2))\n",
    "    acc_test.append(\"{:.2f}%\" .format (b, 2))\n",
    "    acc_val.append(\"{:.2f}%\" .format (c, 2))\n",
    "    \n",
    "   "
   ]
  },
  {
   "cell_type": "markdown",
   "metadata": {},
   "source": [
    "## Decision Tree"
   ]
  },
  {
   "cell_type": "code",
   "execution_count": 16,
   "metadata": {},
   "outputs": [
    {
     "name": "stdout",
     "output_type": "stream",
     "text": [
      "Decision Tree: Accuracy on training Data: 98.15%\n",
      "Decision Tree: Accuracy on TEST Data: 98.14%\n",
      "Decision Tree: Accuracy on validation Data: 98.41%\n"
     ]
    }
   ],
   "source": [
    "## Decision Tree model \n",
    "from sklearn.tree import DecisionTreeClassifier\n",
    "\n",
    "## instantiate the DecisionTreeClassifier model with criterion gini index\n",
    "tree = DecisionTreeClassifier(criterion='gini', max_depth=3, random_state=17)\n",
    "\n",
    "## fit the model \n",
    "tree.fit(X_train, y_train)\n",
    "\n",
    "## predicting the target value from the model for the samples\n",
    "y_pred_tree = tree.predict(X_test)\n",
    "y_train_tree = tree.predict(X_train)\n",
    "y_val_tree = tree.predict(X_val)\n",
    "\n",
    "\n",
    "## Computing the accuracy of the model performance\n",
    "acc_train_tree = (accuracy_score(y_train,y_train_tree)*100)\n",
    "acc_pred_tree = (accuracy_score(y_test,y_pred_tree)*100)\n",
    "acc_val_tree = (accuracy_score(y_val,y_val_tree)*100)\n",
    "\n",
    "print(\"Decision Tree: Accuracy on training Data: %.2f%%\" % (acc_train_tree))\n",
    "print(\"Decision Tree: Accuracy on TEST Data: %.2f%%\" % (acc_pred_tree))\n",
    "print(\"Decision Tree: Accuracy on validation Data: %.2f%%\" % (acc_val_tree))\n",
    "\n",
    "      \n",
    "#Note: y_test are the true class labels \n",
    "#y_test_tree are the predicted class labels in the test set\n",
    "\n",
    "\n",
    "\n",
    "#=============\n",
    "#print the scores on training and test set\n",
    "#print('Training set score: {:.4f}',round(tree.score(X_train, y_train) * 100,2), \"%\")\n",
    "#print('Test set score: {:.4f}',round(tree.score(X_test, y_test) * 100,2), \"%\")\n"
   ]
  },
  {
   "cell_type": "code",
   "execution_count": 17,
   "metadata": {},
   "outputs": [],
   "source": [
    "#storing the results. The below mentioned order of parameter passing is important.\n",
    "#Caution: Execute only once to avoid duplications.\n",
    "\n",
    "storeResults('Decision Tree', acc_train_tree, acc_pred_tree, acc_val_tree )\n"
   ]
  },
  {
   "cell_type": "code",
   "execution_count": 18,
   "metadata": {
    "scrolled": true
   },
   "outputs": [
    {
     "name": "stdout",
     "output_type": "stream",
     "text": [
      "Accuracy :  98.14063556457066\n",
      "\n",
      "Report :                precision    recall  f1-score   support\n",
      "\n",
      "           0       1.00      0.94      0.97       905\n",
      "           1       0.97      1.00      0.99      2053\n",
      "\n",
      "    accuracy                           0.98      2958\n",
      "   macro avg       0.99      0.97      0.98      2958\n",
      "weighted avg       0.98      0.98      0.98      2958\n",
      "\n"
     ]
    }
   ],
   "source": [
    "## Evaluation\n",
    "\n",
    "#Evaluating predictions with test labels\n",
    "print (\"Accuracy : \", accuracy_score(y_test,y_pred_tree)*100)\n",
    "print('')\n",
    "print (\"Report : \",  classification_report(y_test, y_pred_tree))"
   ]
  },
  {
   "cell_type": "code",
   "execution_count": 19,
   "metadata": {},
   "outputs": [
    {
     "data": {
      "text/plain": [
       "<AxesSubplot:title={'center':'Confusion Matrix - Decision Tree'}>"
      ]
     },
     "execution_count": 19,
     "metadata": {},
     "output_type": "execute_result"
    },
    {
     "data": {
      "image/png": "[encoded data removed]",
      "text/plain": [
       "<Figure size 576x432 with 2 Axes>"
      ]
     },
     "metadata": {
      "needs_background": "light"
     },
     "output_type": "display_data"
    }
   ],
   "source": [
    "# Predicting results for test dataset\n",
    "y_pred = tree.predict(X_test)\n",
    "\n",
    "##Get the confusion matrix\n",
    "tree_matrix = confusion_matrix(y_test, y_pred_tree)\n",
    "\n",
    "## Confusion Matrix table\n",
    "\n",
    "group_names = ['True Neg','False Pos','False Neg', 'True Pos']\n",
    "group_counts = [\"{0:0.0f}\".format(value) for value in\n",
    "                tree_matrix.flatten()]\n",
    "group_percentages = [\"{0:.2%}\".format(value) for value in\n",
    "                     tree_matrix.flatten()/np.sum(tree_matrix)]\n",
    "labels = [f\"{v1}\\n{v2}\\n{v3}\" for v1, v2, v3 in\n",
    "          zip(group_names,group_counts,group_percentages)]\n",
    "labels = np.asarray(labels).reshape(2,2)\n",
    "\n",
    "\n",
    "# Labels, title and ticks\n",
    "fig, ax = plt.subplots(figsize=(8, 6))\n",
    "sns.set(font_scale=2.0) # Adjust to fit\n",
    "title_font = {'size':'16'}  # Adjust to fit\n",
    "ax.set_title('Confusion Matrix - Decision Tree', fontdict=title_font);\n",
    "\n",
    "# plot\n",
    "sns.heatmap(tree_matrix, annot=labels, fmt='', cmap='Blues', ax=ax)"
   ]
  },
  {
   "cell_type": "code",
   "execution_count": 20,
   "metadata": {},
   "outputs": [],
   "source": [
    "import numpy as np\n",
    "import matplotlib.pyplot as plt\n",
    "import seaborn as sns\n",
    "\n",
    "def make_confusion_matrix(cf,\n",
    "                          group_names=None,\n",
    "                          categories='auto',\n",
    "                          count=True,\n",
    "                          percent=True,\n",
    "                          cbar=True,\n",
    "                          xyticks=True,\n",
    "                          xyplotlabels=True,\n",
    "                          sum_stats=True,\n",
    "                          figsize=None,\n",
    "                          cmap='Blues',\n",
    "                          title=None):\n",
    "   \n",
    "    # CODE TO GENERATE TEXT INSIDE EACH SQUARE\n",
    "    blanks = ['' for i in range(cf.size)]\n",
    "\n",
    "    if group_names and len(group_names)==cf.size:\n",
    "        group_labels = [\"{}\\n\".format(value) for value in group_names]\n",
    "    else:\n",
    "        group_labels = blanks\n",
    "\n",
    "    if count:\n",
    "        group_counts = [\"{0:0.0f}\\n\".format(value) for value in cf.flatten()]\n",
    "    else:\n",
    "        group_counts = blanks\n",
    "\n",
    "    if percent:\n",
    "        group_percentages = [\"{0:.2%}\".format(value) for value in cf.flatten()/np.sum(cf)]\n",
    "    else:\n",
    "        group_percentages = blanks\n",
    "\n",
    "    box_labels = [f\"{v1}{v2}{v3}\".strip() for v1, v2, v3 in zip(group_labels,group_counts,group_percentages)]\n",
    "    box_labels = np.asarray(box_labels).reshape(cf.shape[0],cf.shape[1])\n",
    "\n",
    "\n",
    "    # CODE TO GENERATE SUMMARY STATISTICS & TEXT FOR SUMMARY STATS\n",
    "    if sum_stats:\n",
    "        #Accuracy is sum of diagonal divided by total observations\n",
    "        accuracy  = np.trace(cf) / float(np.sum(cf))\n",
    "\n",
    "        #if it is a binary confusion matrix, show some more stats\n",
    "        if len(cf)==2:\n",
    "            #Metrics for Binary Confusion Matrices\n",
    "            precision = cf[1,1] / sum(cf[:,1])\n",
    "            recall    = cf[1,1] / sum(cf[1,:])\n",
    "            f1_score  = 2*precision*recall / (precision + recall)\n",
    "            stats_text = \"\\n\\nAccuracy={:0.2f}\\nPrecision={:0.2f}\\nRecall={:0.2f}\\nF1 Score={:0.2f}\".format(\n",
    "                accuracy,precision,recall,f1_score)\n",
    "        else:\n",
    "            stats_text = \"\\n\\nAccuracy={:0.2f}\".format(accuracy)\n",
    "    else:\n",
    "        stats_text = \"\"\n",
    "\n",
    "\n",
    "    # SET FIGURE PARAMETERS ACCORDING TO OTHER ARGUMENTS\n",
    "    if figsize==None:\n",
    "        #Get default figure size if not set\n",
    "        figsize = plt.rcParams.get('figure.figsize')\n",
    "\n",
    "    if xyticks==False:\n",
    "        #Do not show categories if xyticks is False\n",
    "        categories=False\n",
    "\n",
    "\n",
    "    # MAKE THE HEATMAP VISUALIZATION\n",
    "    plt.figure(figsize=figsize)\n",
    "    sns.heatmap(cf,annot=box_labels,fmt=\"\",cmap=cmap,cbar=cbar,xticklabels=categories,yticklabels=categories)\n",
    "\n",
    "    if xyplotlabels:\n",
    "        plt.ylabel('True label')\n",
    "        plt.xlabel('Predicted label' + stats_text)\n",
    "    else:\n",
    "        plt.xlabel(stats_text)\n",
    "    \n",
    "    if title:\n",
    "        plt.title(title)"
   ]
  },
  {
   "cell_type": "code",
   "execution_count": 21,
   "metadata": {},
   "outputs": [
    {
     "data": {
      "image/png": "[encoded data removed]",
      "text/plain": [
       "<Figure size 576x432 with 2 Axes>"
      ]
     },
     "metadata": {},
     "output_type": "display_data"
    }
   ],
   "source": [
    "labels = ['True Neg','False Pos','False Neg', 'True Pos']\n",
    "categories = ['Zero', 'One']\n",
    "make_confusion_matrix(tree_matrix, \n",
    "                      group_names=labels,\n",
    "                      categories=categories, \n",
    "                      cmap='binary', figsize=(8,6))"
   ]
  },
  {
   "cell_type": "markdown",
   "metadata": {},
   "source": [
    "# Random Forest"
   ]
  },
  {
   "cell_type": "code",
   "execution_count": 22,
   "metadata": {},
   "outputs": [
    {
     "name": "stdout",
     "output_type": "stream",
     "text": [
      "Random Forest: Accuracy on training Data: 99.37%\n",
      "Random Forest: Accuracy on TEST Data: 98.88%\n",
      "Random Forest: Accuracy on validation Data: 99.12%\n"
     ]
    }
   ],
   "source": [
    "## Random Forest model\n",
    "from sklearn.ensemble import RandomForestClassifier\n",
    "\n",
    "## instantiate the model\n",
    "forest = RandomForestClassifier(n_estimators=10, min_samples_leaf=2, max_features=0.1, random_state=17)\n",
    "\n",
    "## fit the model \n",
    "forest.fit(X_train, y_train)\n",
    "\n",
    "## predicting the target value from the model for the samples\n",
    "y_pred_forest = forest.predict(X_test)\n",
    "y_train_forest = forest.predict(X_train)\n",
    "y_val_forest = forest.predict(X_val)\n",
    "\n",
    "\n",
    "## Computing the accuracy of the model performance\n",
    "acc_train_forest = (accuracy_score(y_train,y_train_forest)*100)\n",
    "acc_pred_forest = (accuracy_score(y_test,y_pred_forest)*100)\n",
    "acc_val_forest = (accuracy_score(y_val,y_val_forest)*100)\n",
    "\n",
    "print(\"Random Forest: Accuracy on training Data: %.2f%%\" % (acc_train_forest))\n",
    "print(\"Random Forest: Accuracy on TEST Data: %.2f%%\" % (acc_pred_forest))\n",
    "print(\"Random Forest: Accuracy on validation Data: %.2f%%\" % (acc_val_forest))\n",
    "\n",
    "\n",
    "#Note: y_test are the true class labels \n",
    "#y_test_tree are the predicted class labels in the test set\n",
    "\n",
    "\n",
    "\n",
    "#=============\n",
    "#print the scores on training and test set\n",
    "#print('Training set score: {:.4f}',round(forest.score(X_train, y_train) * 100,2), \"%\")\n",
    "#print('Test set score: {:.4f}',round(forest.score(X_test, y_test) * 100,2), \"%\")\n"
   ]
  },
  {
   "cell_type": "code",
   "execution_count": 23,
   "metadata": {},
   "outputs": [],
   "source": [
    "# storing the results. The below mentioned order of parameter passing is important.\n",
    "# Caution: Execute only once to avoid duplications.\n",
    "storeResults('Random Forest', acc_train_forest, acc_pred_forest, acc_val_forest)\n"
   ]
  },
  {
   "cell_type": "code",
   "execution_count": 24,
   "metadata": {},
   "outputs": [
    {
     "name": "stdout",
     "output_type": "stream",
     "text": [
      "Random forest: Accuracy on TEST Data: 98.88 %\n",
      "\n",
      "Report :                precision    recall  f1-score   support\n",
      "\n",
      "           0       1.00      0.96      0.98       905\n",
      "           1       0.98      1.00      0.99      2053\n",
      "\n",
      "    accuracy                           0.99      2958\n",
      "   macro avg       0.99      0.98      0.99      2958\n",
      "weighted avg       0.99      0.99      0.99      2958\n",
      "\n"
     ]
    }
   ],
   "source": [
    "## Evaluation\n",
    "\n",
    "#Evaluating predictions with test labels\n",
    "print('Random forest: Accuracy on TEST Data: {:.2f}'.format(acc_pred_forest),\"%\")\n",
    "print('')\n",
    "print (\"Report : \",  classification_report(y_test, y_pred_forest))"
   ]
  },
  {
   "cell_type": "code",
   "execution_count": 25,
   "metadata": {},
   "outputs": [
    {
     "data": {
      "text/plain": [
       "<AxesSubplot:title={'center':'Confusion Matrix - Random Forest'}>"
      ]
     },
     "execution_count": 25,
     "metadata": {},
     "output_type": "execute_result"
    },
    {
     "data": {
      "image/png": "[encoded data removed]",
      "text/plain": [
       "<Figure size 576x432 with 2 Axes>"
      ]
     },
     "metadata": {},
     "output_type": "display_data"
    }
   ],
   "source": [
    "# Predicting results for test dataset\n",
    "y_pred = forest.predict(X_test)\n",
    "\n",
    "##Get the confusion matrix\n",
    "forest_matrix = confusion_matrix(y_test, y_pred_forest)\n",
    "\n",
    "## Confusion Matrix table\n",
    "\n",
    "group_names = ['True Neg','False Pos','False Neg', 'True Pos']\n",
    "group_counts = [\"{0:0.0f}\".format(value) for value in\n",
    "                forest_matrix.flatten()]\n",
    "group_percentages = [\"{0:.2%}\".format(value) for value in\n",
    "                     forest_matrix.flatten()/np.sum(forest_matrix)]\n",
    "labels = [f\"{v1}\\n{v2}\\n{v3}\" for v1, v2, v3 in\n",
    "          zip(group_names,group_counts,group_percentages)]\n",
    "labels = np.asarray(labels).reshape(2,2)\n",
    "\n",
    "\n",
    "# Labels, title and ticks\n",
    "fig, ax = plt.subplots(figsize=(8, 6))\n",
    "sns.set(font_scale=2.0) # Adjust to fit\n",
    "title_font = {'size':'16'}  # Adjust to fit\n",
    "ax.set_title('Confusion Matrix - Random Forest', fontdict=title_font);\n",
    "\n",
    "# plot\n",
    "sns.heatmap(tree_matrix, annot=labels, fmt='', cmap='Blues', ax=ax)"
   ]
  },
  {
   "cell_type": "markdown",
   "metadata": {},
   "source": [
    "## CNN Model"
   ]
  },
  {
   "cell_type": "code",
   "execution_count": 26,
   "metadata": {},
   "outputs": [],
   "source": [
    "#importing required packages\n",
    "from tensorflow.keras.models import Sequential\n",
    "from tensorflow.keras.layers import Activation, Dense, Flatten, Conv1D, MaxPool1D, Dropout, Input\n",
    "from tensorflow.keras.losses import sparse_categorical_crossentropy\n",
    "from tensorflow.keras.optimizers import Adam\n",
    "from sklearn.model_selection import KFold"
   ]
  },
  {
   "cell_type": "code",
   "execution_count": 27,
   "metadata": {},
   "outputs": [
    {
     "name": "stdout",
     "output_type": "stream",
     "text": [
      "3 dim array as expected by cnn model\n",
      "X_train: (8874, 15, 1)\n",
      "X_test: (2958, 15, 1)\n",
      "X_val: (2958, 15, 1)\n"
     ]
    }
   ],
   "source": [
    "# Reshaping data as expected by Sequential model\n",
    "# convert to 3 dim array\n",
    "\n",
    "X_train = X_train.reshape(X_train.shape[0], X_train.shape[1],1)\n",
    "\n",
    "X_test = X_test.reshape(X_test.shape[0], X_test.shape[1],1)\n",
    "\n",
    "X_val = X_val.reshape(X_val.shape[0], X_val.shape[1],1)\n",
    "\n",
    "print(\"3 dim array as expected by cnn model\")\n",
    "print(\"X_train:\", X_train.shape)\n",
    "print(\"X_test:\", X_test.shape)\n",
    "print(\"X_val:\", X_val.shape)\n"
   ]
  },
  {
   "cell_type": "markdown",
   "metadata": {},
   "source": [
    "## Evaluating CNN Model Traditionally (No KFold or Cross Validation)"
   ]
  },
  {
   "cell_type": "code",
   "execution_count": 28,
   "metadata": {},
   "outputs": [
    {
     "name": "stdout",
     "output_type": "stream",
     "text": [
      "WARNING:tensorflow:From /Users/jillkathleen/.local/lib/python3.8/site-packages/tensorflow/python/compat/v2_compat.py:96: disable_resource_variables (from tensorflow.python.ops.variable_scope) is deprecated and will be removed in a future version.\n",
      "Instructions for updating:\n",
      "non-resource variables are not supported in the long term\n"
     ]
    }
   ],
   "source": [
    "# CNN model\n",
    "\n",
    "#importing required packages\n",
    "\n",
    "import tensorflow as tf\n",
    "import tensorflow.keras as k\n",
    "\n",
    "from tensorflow.keras import Sequential\n",
    "from tensorflow.keras import models\n",
    "from tensorflow.keras.layers import GlobalMaxPooling1D, Activation, Dense, Flatten, Conv1D, MaxPooling1D, Dropout, BatchNormalization\n",
    "from keras import regularizers\n",
    "\n",
    "from tensorflow.keras.losses import sparse_categorical_crossentropy\n",
    "from tensorflow.keras.optimizers import Adam\n",
    "from keras.regularizers import l1\n",
    "from sklearn.model_selection import KFold\n",
    "import random as rn\n",
    "\n",
    "import tensorflow.compat.v1 as tf\n",
    "tf.disable_v2_behavior()"
   ]
  },
  {
   "cell_type": "code",
   "execution_count": 29,
   "metadata": {},
   "outputs": [],
   "source": [
    "tf.random.set_random_seed(29)\n",
    "\n",
    "# Model configuration\n",
    "ADAM = Adam(learning_rate=0.001)\n",
    "verbosity = 2\n",
    "l1 = regularizers.l1(0.001)\n",
    "\n",
    "INPUT_DIM = X_train[0].shape\n",
    "                                # Define the model architecture\n",
    "#--Layer Name\n",
    "proposed = Sequential(name=\"Proposed_Model\")\n",
    "\n",
    "    \n",
    "#--Input Layer\n",
    "proposed.add(Conv1D(20, 3, activation='relu', input_shape = INPUT_DIM))\n",
    "                    #kernel_regularizer=l1))\n",
    "proposed.add(BatchNormalization())\n",
    "proposed.add(Dropout(0.2))\n",
    "\n",
    "#--Convo Layer 1\n",
    "proposed.add(Conv1D(20, 3, activation='relu', padding='same', name=\"CONV_1\"))\n",
    "proposed.add(MaxPooling1D(2, name=\"POOLING_1\"))\n",
    "\n",
    "#--Convo Layer 2\n",
    "proposed.add(Conv1D(40, 3, activation='relu', padding='same', name=\"CONV_2\", kernel_regularizer=l1))\n",
    "#--Convo Layer 3\n",
    "proposed.add(Conv1D(40, 3, activation='relu', padding='same', name=\"CONV_3\"))\n",
    "#--Convo Layer 4\n",
    "proposed.add(Conv1D(40, 5, activation='relu', padding='same', name=\"CONV_4\"))\n",
    "proposed.add(MaxPooling1D(2, name=\"POOLING_2\", padding='same'))\n",
    "\n",
    "\n",
    "#--Convo Layer 5\n",
    "proposed.add(Conv1D(80, 3, activation='relu', padding='same', name=\"CONV_5\", kernel_regularizer=l1))\n",
    "#--Convo Layer 6\n",
    "proposed.add(Conv1D(80, 3, activation='relu', padding='same', name=\"CONV_6\"))\n",
    "#--Convo Layer 7\n",
    "proposed.add(Conv1D(160, 3, activation='relu', padding='same', name=\"CONV_7\"))\n",
    "proposed.add(MaxPooling1D(2, name=\"POOLING_3\", padding='same'))\n",
    "proposed.add(Dropout(0.4, name=\"DROPOUT_1\"))\n",
    "\n",
    "    \n",
    "##-----Fully Connected Layer\n",
    "proposed.add(Flatten(name=\"FC\"))\n",
    "\n",
    "\n",
    "##--First Fully Connected Layer 5\n",
    "proposed.add(Dense(128, activation='relu', name='DENSE_1', kernel_regularizer=l1))\n",
    "\n",
    "proposed.add(Dense(64, activation='relu', name='DENSE_2'))\n",
    "proposed.add(Dropout(0.5, name=\"DROPOUT_2\"))\n",
    "    \n",
    "##--Fully Connected Output Layer\n",
    "proposed.add(Dense(2, activation='softmax', name=\"OUTPUT\"))\n",
    "\n",
    "# Compile the model\n",
    "proposed.compile(loss='sparse_categorical_crossentropy',\n",
    "              optimizer=ADAM, metrics=['accuracy'])\n"
   ]
  },
  {
   "cell_type": "code",
   "execution_count": 30,
   "metadata": {},
   "outputs": [
    {
     "name": "stdout",
     "output_type": "stream",
     "text": [
      "Model: \"Proposed_Model\"\n",
      "_________________________________________________________________\n",
      "Layer (type)                 Output Shape              Param #   \n",
      "=================================================================\n",
      "conv1d (Conv1D)              (None, 13, 20)            80        \n",
      "_________________________________________________________________\n",
      "batch_normalization (BatchNo (None, 13, 20)            80        \n",
      "_________________________________________________________________\n",
      "dropout (Dropout)            (None, 13, 20)            0         \n",
      "_________________________________________________________________\n",
      "CONV_1 (Conv1D)              (None, 13, 20)            1220      \n",
      "_________________________________________________________________\n",
      "POOLING_1 (MaxPooling1D)     (None, 6, 20)             0         \n",
      "_________________________________________________________________\n",
      "CONV_2 (Conv1D)              (None, 6, 40)             2440      \n",
      "_________________________________________________________________\n",
      "CONV_3 (Conv1D)              (None, 6, 40)             4840      \n",
      "_________________________________________________________________\n",
      "CONV_4 (Conv1D)              (None, 6, 40)             8040      \n",
      "_________________________________________________________________\n",
      "POOLING_2 (MaxPooling1D)     (None, 3, 40)             0         \n",
      "_________________________________________________________________\n",
      "CONV_5 (Conv1D)              (None, 3, 80)             9680      \n",
      "_________________________________________________________________\n",
      "CONV_6 (Conv1D)              (None, 3, 80)             19280     \n",
      "_________________________________________________________________\n",
      "CONV_7 (Conv1D)              (None, 3, 160)            38560     \n",
      "_________________________________________________________________\n",
      "POOLING_3 (MaxPooling1D)     (None, 2, 160)            0         \n",
      "_________________________________________________________________\n",
      "DROPOUT_1 (Dropout)          (None, 2, 160)            0         \n",
      "_________________________________________________________________\n",
      "FC (Flatten)                 (None, 320)               0         \n",
      "_________________________________________________________________\n",
      "DENSE_1 (Dense)              (None, 128)               41088     \n",
      "_________________________________________________________________\n",
      "DENSE_2 (Dense)              (None, 64)                8256      \n",
      "_________________________________________________________________\n",
      "DROPOUT_2 (Dropout)          (None, 64)                0         \n",
      "_________________________________________________________________\n",
      "OUTPUT (Dense)               (None, 2)                 130       \n",
      "=================================================================\n",
      "Total params: 133,694\n",
      "Trainable params: 133,654\n",
      "Non-trainable params: 40\n",
      "_________________________________________________________________\n"
     ]
    }
   ],
   "source": [
    "proposed.summary()"
   ]
  },
  {
   "cell_type": "code",
   "execution_count": 31,
   "metadata": {},
   "outputs": [
    {
     "name": "stdout",
     "output_type": "stream",
     "text": [
      "Building model... \n",
      "\n",
      "Train on 8874 samples, validate on 2958 samples\n",
      "Epoch 1/60\n",
      "8874/8874 - 1s - loss: 2.3494 - acc: 0.8383 - val_loss: 1.4449 - val_acc: 0.9033\n"
     ]
    },
    {
     "name": "stderr",
     "output_type": "stream",
     "text": [
      "/Users/jillkathleen/.local/lib/python3.8/site-packages/tensorflow/python/keras/engine/training.py:2325: UserWarning: `Model.state_updates` will be removed in a future version. This property should not be used in TensorFlow 2.0, as `updates` are applied automatically.\n",
      "  warnings.warn('`Model.state_updates` will be removed in a future version. '\n"
     ]
    },
    {
     "name": "stdout",
     "output_type": "stream",
     "text": [
      "Epoch 2/60\n",
      "8874/8874 - 1s - loss: 0.7696 - acc: 0.9588 - val_loss: 0.5754 - val_acc: 0.9550\n",
      "Epoch 3/60\n",
      "8874/8874 - 1s - loss: 0.4190 - acc: 0.9731 - val_loss: 0.3801 - val_acc: 0.9804\n",
      "Epoch 4/60\n",
      "8874/8874 - 1s - loss: 0.3108 - acc: 0.9772 - val_loss: 0.2900 - val_acc: 0.9763\n",
      "Epoch 5/60\n",
      "8874/8874 - 1s - loss: 0.2504 - acc: 0.9811 - val_loss: 0.2259 - val_acc: 0.9892\n",
      "Epoch 6/60\n",
      "8874/8874 - 1s - loss: 0.2223 - acc: 0.9811 - val_loss: 0.2021 - val_acc: 0.9865\n",
      "Epoch 7/60\n",
      "8874/8874 - 1s - loss: 0.1991 - acc: 0.9823 - val_loss: 0.1735 - val_acc: 0.9831\n",
      "Epoch 8/60\n",
      "8874/8874 - 1s - loss: 0.1722 - acc: 0.9851 - val_loss: 0.1689 - val_acc: 0.9770\n",
      "Epoch 9/60\n",
      "8874/8874 - 1s - loss: 0.1588 - acc: 0.9854 - val_loss: 0.1335 - val_acc: 0.9905\n",
      "Epoch 10/60\n",
      "8874/8874 - 1s - loss: 0.1485 - acc: 0.9842 - val_loss: 0.1233 - val_acc: 0.9892\n",
      "Epoch 11/60\n",
      "8874/8874 - 1s - loss: 0.1325 - acc: 0.9861 - val_loss: 0.1192 - val_acc: 0.9882\n",
      "Epoch 12/60\n",
      "8874/8874 - 1s - loss: 0.1254 - acc: 0.9849 - val_loss: 0.1033 - val_acc: 0.9909\n",
      "Epoch 13/60\n",
      "8874/8874 - 1s - loss: 0.1162 - acc: 0.9859 - val_loss: 0.1022 - val_acc: 0.9885\n",
      "Epoch 14/60\n",
      "8874/8874 - 1s - loss: 0.1149 - acc: 0.9854 - val_loss: 0.0971 - val_acc: 0.9895\n",
      "Epoch 15/60\n",
      "8874/8874 - 1s - loss: 0.1004 - acc: 0.9874 - val_loss: 0.0853 - val_acc: 0.9905\n",
      "Epoch 16/60\n",
      "8874/8874 - 1s - loss: 0.0994 - acc: 0.9855 - val_loss: 0.0866 - val_acc: 0.9899\n",
      "Epoch 17/60\n",
      "8874/8874 - 1s - loss: 0.0991 - acc: 0.9864 - val_loss: 0.0863 - val_acc: 0.9885\n",
      "Epoch 18/60\n",
      "8874/8874 - 1s - loss: 0.0925 - acc: 0.9859 - val_loss: 0.0813 - val_acc: 0.9868\n",
      "Epoch 19/60\n",
      "8874/8874 - 2s - loss: 0.0866 - acc: 0.9867 - val_loss: 0.0789 - val_acc: 0.9892\n",
      "Epoch 20/60\n",
      "8874/8874 - 1s - loss: 0.0862 - acc: 0.9857 - val_loss: 0.0765 - val_acc: 0.9878\n",
      "Epoch 21/60\n",
      "8874/8874 - 1s - loss: 0.0778 - acc: 0.9878 - val_loss: 0.0757 - val_acc: 0.9872\n",
      "Epoch 22/60\n",
      "8874/8874 - 1s - loss: 0.0782 - acc: 0.9874 - val_loss: 0.0661 - val_acc: 0.9922\n",
      "Epoch 23/60\n",
      "8874/8874 - 1s - loss: 0.0739 - acc: 0.9886 - val_loss: 0.0655 - val_acc: 0.9912\n",
      "Epoch 24/60\n",
      "8874/8874 - 1s - loss: 0.0765 - acc: 0.9873 - val_loss: 0.0688 - val_acc: 0.9909\n",
      "Epoch 25/60\n",
      "8874/8874 - 1s - loss: 0.0704 - acc: 0.9892 - val_loss: 0.0677 - val_acc: 0.9888\n",
      "Epoch 26/60\n",
      "8874/8874 - 1s - loss: 0.0721 - acc: 0.9882 - val_loss: 0.0654 - val_acc: 0.9895\n",
      "Epoch 27/60\n",
      "8874/8874 - 1s - loss: 0.0698 - acc: 0.9884 - val_loss: 0.0633 - val_acc: 0.9888\n",
      "Epoch 28/60\n",
      "8874/8874 - 1s - loss: 0.0676 - acc: 0.9878 - val_loss: 0.0627 - val_acc: 0.9905\n",
      "Epoch 29/60\n",
      "8874/8874 - 1s - loss: 0.0744 - acc: 0.9874 - val_loss: 0.0679 - val_acc: 0.9878\n",
      "Epoch 30/60\n",
      "8874/8874 - 1s - loss: 0.0676 - acc: 0.9883 - val_loss: 0.0615 - val_acc: 0.9899\n",
      "Epoch 31/60\n",
      "8874/8874 - 1s - loss: 0.0720 - acc: 0.9872 - val_loss: 0.0684 - val_acc: 0.9895\n",
      "Epoch 32/60\n",
      "8874/8874 - 1s - loss: 0.0625 - acc: 0.9878 - val_loss: 0.0553 - val_acc: 0.9919\n",
      "Epoch 33/60\n",
      "8874/8874 - 1s - loss: 0.0596 - acc: 0.9902 - val_loss: 0.0542 - val_acc: 0.9926\n",
      "Epoch 34/60\n",
      "8874/8874 - 1s - loss: 0.0656 - acc: 0.9874 - val_loss: 0.0587 - val_acc: 0.9909\n",
      "Epoch 35/60\n",
      "8874/8874 - 1s - loss: 0.0644 - acc: 0.9873 - val_loss: 0.0554 - val_acc: 0.9919\n",
      "Epoch 36/60\n",
      "8874/8874 - 1s - loss: 0.0661 - acc: 0.9867 - val_loss: 0.0602 - val_acc: 0.9882\n",
      "Epoch 37/60\n",
      "8874/8874 - 1s - loss: 0.0725 - acc: 0.9857 - val_loss: 0.0557 - val_acc: 0.9926\n",
      "Epoch 38/60\n",
      "8874/8874 - 1s - loss: 0.0584 - acc: 0.9895 - val_loss: 0.0536 - val_acc: 0.9912\n",
      "Epoch 39/60\n",
      "8874/8874 - 1s - loss: 0.0601 - acc: 0.9883 - val_loss: 0.0555 - val_acc: 0.9922\n",
      "Epoch 40/60\n",
      "8874/8874 - 1s - loss: 0.0602 - acc: 0.9882 - val_loss: 0.0600 - val_acc: 0.9902\n",
      "Epoch 41/60\n",
      "8874/8874 - 1s - loss: 0.0534 - acc: 0.9912 - val_loss: 0.0529 - val_acc: 0.9919\n",
      "Epoch 42/60\n",
      "8874/8874 - 1s - loss: 0.0585 - acc: 0.9885 - val_loss: 0.0535 - val_acc: 0.9919\n",
      "Epoch 43/60\n",
      "8874/8874 - 1s - loss: 0.0606 - acc: 0.9891 - val_loss: 0.0671 - val_acc: 0.9888\n",
      "Epoch 44/60\n",
      "8874/8874 - 1s - loss: 0.0613 - acc: 0.9891 - val_loss: 0.0565 - val_acc: 0.9882\n",
      "Epoch 45/60\n",
      "8874/8874 - 1s - loss: 0.0624 - acc: 0.9882 - val_loss: 0.0531 - val_acc: 0.9905\n",
      "Epoch 46/60\n",
      "8874/8874 - 1s - loss: 0.0525 - acc: 0.9900 - val_loss: 0.0486 - val_acc: 0.9919\n",
      "Epoch 47/60\n",
      "8874/8874 - 2s - loss: 0.0538 - acc: 0.9901 - val_loss: 0.0507 - val_acc: 0.9905\n",
      "Epoch 48/60\n",
      "8874/8874 - 1s - loss: 0.0593 - acc: 0.9873 - val_loss: 0.0528 - val_acc: 0.9915\n",
      "Epoch 49/60\n",
      "8874/8874 - 1s - loss: 0.0575 - acc: 0.9870 - val_loss: 0.0509 - val_acc: 0.9922\n",
      "Epoch 50/60\n",
      "8874/8874 - 1s - loss: 0.0569 - acc: 0.9885 - val_loss: 0.0587 - val_acc: 0.9878\n",
      "Epoch 51/60\n",
      "8874/8874 - 1s - loss: 0.0572 - acc: 0.9893 - val_loss: 0.0503 - val_acc: 0.9919\n",
      "Epoch 52/60\n",
      "8874/8874 - 1s - loss: 0.0558 - acc: 0.9884 - val_loss: 0.0520 - val_acc: 0.9905\n",
      "Epoch 53/60\n",
      "8874/8874 - 1s - loss: 0.0563 - acc: 0.9881 - val_loss: 0.0542 - val_acc: 0.9888\n",
      "Epoch 54/60\n",
      "8874/8874 - 1s - loss: 0.0512 - acc: 0.9896 - val_loss: 0.0524 - val_acc: 0.9885\n",
      "Epoch 55/60\n",
      "8874/8874 - 1s - loss: 0.0598 - acc: 0.9885 - val_loss: 0.0495 - val_acc: 0.9919\n",
      "Epoch 56/60\n",
      "8874/8874 - 1s - loss: 0.0523 - acc: 0.9900 - val_loss: 0.0491 - val_acc: 0.9902\n",
      "Epoch 57/60\n",
      "8874/8874 - 1s - loss: 0.0536 - acc: 0.9893 - val_loss: 0.0482 - val_acc: 0.9922\n",
      "Epoch 58/60\n",
      "8874/8874 - 1s - loss: 0.0515 - acc: 0.9893 - val_loss: 0.0501 - val_acc: 0.9929\n",
      "Epoch 59/60\n",
      "8874/8874 - 1s - loss: 0.0526 - acc: 0.9893 - val_loss: 0.0511 - val_acc: 0.9895\n",
      "Epoch 60/60\n",
      "8874/8874 - 1s - loss: 0.0533 - acc: 0.9881 - val_loss: 0.0477 - val_acc: 0.9926\n",
      "\n",
      "\n",
      "Test loss: 0.05%\n",
      "Test accuracy: 98.99%\n"
     ]
    }
   ],
   "source": [
    "\n",
    "## Train the Model\n",
    "\n",
    "print('Building model... \\n')\n",
    "\n",
    "history = proposed.fit(X_train, y_train, validation_data=(X_val, y_val), \n",
    "                    batch_size=128, epochs=60, verbose=2)\n",
    "\n",
    "# Score metrics from the model\n",
    "print('')\n",
    "score = proposed.evaluate(X_test, y_test, verbose=2)\n",
    "\n",
    "# Displays the accuracy of correct sentiment prediction over test data\n",
    "print('')\n",
    "print(\"Test loss: %.2f%%\" % score[0])\n",
    "print(\"Test accuracy: %.2f%%\" % (score[1]*100))\n",
    "\n"
   ]
  },
  {
   "cell_type": "code",
   "execution_count": 32,
   "metadata": {},
   "outputs": [
    {
     "name": "stdout",
     "output_type": "stream",
     "text": [
      "batch_size=128, epochs=60\n",
      "\n",
      "CNN: Accuracy on training Data: 99.27%\n",
      "CNN: Accuracy on TEST Data: 98.99%\n",
      "CNN: Accuracy on validation Data: 99.26%\n"
     ]
    }
   ],
   "source": [
    "\n",
    "## Evaluate model scores\n",
    "\n",
    "acc_train_cnn = (proposed.evaluate(X_train, y_train)[1]*100)\n",
    "acc_test_cnn = (proposed.evaluate(X_test, y_test)[1]*100)\n",
    "acc_val_cnn = (proposed.evaluate(X_val, y_val)[1]*100)\n",
    "\n",
    "print(\"batch_size=128, epochs=60\")\n",
    "print('')\n",
    "print(\"CNN: Accuracy on training Data: %.2f%%\" % (acc_train_cnn))\n",
    "print(\"CNN: Accuracy on TEST Data: %.2f%%\" % (acc_test_cnn))\n",
    "print(\"CNN: Accuracy on validation Data: %.2f%%\" % (acc_val_cnn))\n",
    "\n"
   ]
  },
  {
   "cell_type": "code",
   "execution_count": 33,
   "metadata": {},
   "outputs": [],
   "source": [
    "\n",
    "#storing the results. The below mentioned order of parameter passing is important.\n",
    "#Caution: Execute only once to avoid duplications.\n",
    "storeResults('CNN', acc_train_cnn, acc_test_cnn, acc_val_cnn)\n"
   ]
  },
  {
   "cell_type": "code",
   "execution_count": 34,
   "metadata": {},
   "outputs": [
    {
     "data": {
      "image/png": "[encoded data removed]",
      "text/plain": [
       "<Figure size 648x432 with 1 Axes>"
      ]
     },
     "metadata": {},
     "output_type": "display_data"
    },
    {
     "data": {
      "image/png": "[encoded data removed]",
      "text/plain": [
       "<Figure size 648x432 with 1 Axes>"
      ]
     },
     "metadata": {},
     "output_type": "display_data"
    }
   ],
   "source": [
    "## As shown in docu\n",
    "\n",
    "## Plot training & test loss values\n",
    "## Computing Loss Result on Training And Test Results\n",
    "plt.figure(figsize=(9,6))\n",
    "plt.plot(history.history['loss'])\n",
    "plt.plot(history.history['val_loss'])\n",
    "plt.title('CNN Model Training and Test Loss', fontsize=16)\n",
    "plt.ylabel('Loss', fontsize=14)\n",
    "plt.xlabel('Epoch', fontsize=14)\n",
    "plt.legend(['Train', 'Test'], loc='upper left')\n",
    "plt.savefig('/Users/jillkathleen/Desktop/Phishing-Analysis-Detection/Back-End/Model-ntbk/Graph-Visuals/val-loss.png')\n",
    "plt.show()\n",
    "\n",
    "\n",
    "## Plot training & test accuracy values\n",
    "## Computing Accuracy on Training And Test Results\n",
    "plt.figure(figsize=(9,6))\n",
    "plt.plot(history.history['acc'])\n",
    "plt.plot(history.history['val_acc'])\n",
    "plt.title('CNN Model Training and Test Accuracy', fontsize=16)\n",
    "plt.ylabel('Loss', fontsize=14)\n",
    "plt.xlabel('Epoch', fontsize=14)\n",
    "plt.legend(['Train', 'Test'], loc='upper left')\n",
    "plt.savefig('/Users/jillkathleen/Desktop/Phishing-Analysis-Detection/Back-End/Model-ntbk/Graph-Visuals/test-acc-docu.png')\n",
    "plt.show()\n"
   ]
  },
  {
   "cell_type": "code",
   "execution_count": 35,
   "metadata": {},
   "outputs": [
    {
     "name": "stdout",
     "output_type": "stream",
     "text": [
      "dict_keys(['loss', 'acc', 'val_loss', 'val_acc'])\n"
     ]
    },
    {
     "data": {
      "image/png": "[encoded data removed]",
      "text/plain": [
       "<Figure size 432x288 with 1 Axes>"
      ]
     },
     "metadata": {},
     "output_type": "display_data"
    },
    {
     "data": {
      "image/png": "[encoded data removed]",
      "text/plain": [
       "<Figure size 432x288 with 1 Axes>"
      ]
     },
     "metadata": {},
     "output_type": "display_data"
    }
   ],
   "source": [
    "# list all data in history\n",
    "print(history.history.keys())\n",
    "# summarize history for accuracy\n",
    "plt.plot(history.history['acc'])\n",
    "plt.plot(history.history['val_acc'])\n",
    "plt.title('model accuracy')\n",
    "plt.ylabel('accuracy')\n",
    "plt.xlabel('epoch')\n",
    "plt.legend(['Train', 'Validation'], loc='upper left')\n",
    "plt.show()\n",
    "\n",
    "# summarize history for loss\n",
    "plt.plot(history.history['loss'])\n",
    "plt.plot(history.history['val_loss'])\n",
    "plt.title('model loss')\n",
    "plt.ylabel('loss')\n",
    "plt.xlabel('epoch')\n",
    "plt.legend(['Train', 'Validation'], loc='upper left')\n",
    "plt.show()"
   ]
  },
  {
   "cell_type": "markdown",
   "metadata": {},
   "source": [
    "## Comparison of Models"
   ]
  },
  {
   "cell_type": "code",
   "execution_count": 36,
   "metadata": {},
   "outputs": [
    {
     "data": {
      "text/plain": [
       "(['98.15%', '99.37%', '99.27%'],\n",
       " ['98.14%', '98.88%', '98.99%'],\n",
       " ['98.41%', '99.12%', '99.26%'])"
      ]
     },
     "execution_count": 36,
     "metadata": {},
     "output_type": "execute_result"
    }
   ],
   "source": [
    "acc_train, acc_test, acc_val"
   ]
  },
  {
   "cell_type": "code",
   "execution_count": 44,
   "metadata": {},
   "outputs": [
    {
     "name": "stdout",
     "output_type": "stream",
     "text": [
      "Dataset 2 Results\n"
     ]
    },
    {
     "data": {
      "text/html": [
       "<style  type=\"text/css\" >\n",
       "#T_1a87d_row0_col0,#T_1a87d_row0_col1,#T_1a87d_row0_col2,#T_1a87d_row0_col3,#T_1a87d_row1_col0,#T_1a87d_row1_col1,#T_1a87d_row1_col2,#T_1a87d_row1_col3,#T_1a87d_row2_col0,#T_1a87d_row2_col1,#T_1a87d_row2_col2,#T_1a87d_row2_col3{\n",
       "            text-align:  center;\n",
       "        }</style><table id=\"T_1a87d_\" ><thead>    <tr>        <th class=\"blank level0\" ></th>        <th class=\"col_heading level0 col0\" >ML Model</th>        <th class=\"col_heading level0 col1\" >Train Accuracy</th>        <th class=\"col_heading level0 col2\" >Test Accuracy</th>        <th class=\"col_heading level0 col3\" >Val Accuracy</th>    </tr></thead><tbody>\n",
       "                <tr>\n",
       "                        <th id=\"T_1a87d_level0_row0\" class=\"row_heading level0 row0\" >1</th>\n",
       "                        <td id=\"T_1a87d_row0_col0\" class=\"data row0 col0\" >Decision Tree</td>\n",
       "                        <td id=\"T_1a87d_row0_col1\" class=\"data row0 col1\" >98.15%</td>\n",
       "                        <td id=\"T_1a87d_row0_col2\" class=\"data row0 col2\" >98.14%</td>\n",
       "                        <td id=\"T_1a87d_row0_col3\" class=\"data row0 col3\" >98.41%</td>\n",
       "            </tr>\n",
       "            <tr>\n",
       "                        <th id=\"T_1a87d_level0_row1\" class=\"row_heading level0 row1\" >2</th>\n",
       "                        <td id=\"T_1a87d_row1_col0\" class=\"data row1 col0\" >Random Forest</td>\n",
       "                        <td id=\"T_1a87d_row1_col1\" class=\"data row1 col1\" >99.37%</td>\n",
       "                        <td id=\"T_1a87d_row1_col2\" class=\"data row1 col2\" >98.88%</td>\n",
       "                        <td id=\"T_1a87d_row1_col3\" class=\"data row1 col3\" >99.12%</td>\n",
       "            </tr>\n",
       "            <tr>\n",
       "                        <th id=\"T_1a87d_level0_row2\" class=\"row_heading level0 row2\" >3</th>\n",
       "                        <td id=\"T_1a87d_row2_col0\" class=\"data row2 col0\" >CNN</td>\n",
       "                        <td id=\"T_1a87d_row2_col1\" class=\"data row2 col1\" >99.27%</td>\n",
       "                        <td id=\"T_1a87d_row2_col2\" class=\"data row2 col2\" >98.99%</td>\n",
       "                        <td id=\"T_1a87d_row2_col3\" class=\"data row2 col3\" >99.26%</td>\n",
       "            </tr>\n",
       "    </tbody></table>"
      ],
      "text/plain": [
       "<pandas.io.formats.style.Styler at 0x7feb67104a30>"
      ]
     },
     "execution_count": 44,
     "metadata": {},
     "output_type": "execute_result"
    }
   ],
   "source": [
    "results = ({'ML Model':  ML_Model,    \n",
    "    'Train Accuracy':   acc_train,\n",
    "    'Test Accuracy':   acc_test,\n",
    "    'Val Accuracy':   acc_val})\n",
    "\n",
    "# Create DataFrame  \n",
    "df = pd.DataFrame(results)\n",
    "\n",
    "# Set Index\n",
    "index_df = df.set_index([pd.Index([1,2,3])])\n",
    "\n",
    "# Set alignment\n",
    "align_df = index_df.style.set_properties(**{'text-align': 'center'})\n",
    "\n",
    "print(\"Dataset 2 Results\")\n",
    "align_df"
   ]
  },
  {
   "cell_type": "code",
   "execution_count": 38,
   "metadata": {},
   "outputs": [
    {
     "data": {
      "text/html": [
       "<div>\n",
       "<style scoped>\n",
       "    .dataframe tbody tr th:only-of-type {\n",
       "        vertical-align: middle;\n",
       "    }\n",
       "\n",
       "    .dataframe tbody tr th {\n",
       "        vertical-align: top;\n",
       "    }\n",
       "\n",
       "    .dataframe thead th {\n",
       "        text-align: right;\n",
       "    }\n",
       "</style>\n",
       "<table border=\"1\" class=\"dataframe\">\n",
       "  <thead>\n",
       "    <tr style=\"text-align: right;\">\n",
       "      <th></th>\n",
       "      <th>ML Model</th>\n",
       "      <th>Train Accuracy</th>\n",
       "      <th>Test Accuracy</th>\n",
       "      <th>Val Accuracy</th>\n",
       "    </tr>\n",
       "  </thead>\n",
       "  <tbody>\n",
       "    <tr>\n",
       "      <th>3</th>\n",
       "      <td>CNN</td>\n",
       "      <td>99.27%</td>\n",
       "      <td>98.99%</td>\n",
       "      <td>99.26%</td>\n",
       "    </tr>\n",
       "    <tr>\n",
       "      <th>2</th>\n",
       "      <td>Random Forest</td>\n",
       "      <td>99.37%</td>\n",
       "      <td>98.88%</td>\n",
       "      <td>99.12%</td>\n",
       "    </tr>\n",
       "    <tr>\n",
       "      <th>1</th>\n",
       "      <td>Decision Tree</td>\n",
       "      <td>98.15%</td>\n",
       "      <td>98.14%</td>\n",
       "      <td>98.41%</td>\n",
       "    </tr>\n",
       "  </tbody>\n",
       "</table>\n",
       "</div>"
      ],
      "text/plain": [
       "        ML Model Train Accuracy Test Accuracy Val Accuracy\n",
       "3            CNN         99.27%        98.99%       99.26%\n",
       "2  Random Forest         99.37%        98.88%       99.12%\n",
       "1  Decision Tree         98.15%        98.14%       98.41%"
      ]
     },
     "execution_count": 38,
     "metadata": {},
     "output_type": "execute_result"
    }
   ],
   "source": [
    "#Sorting the dataframe on accuracy\n",
    "index_df.sort_values(by=['Test Accuracy', 'Train Accuracy'], ascending=False)"
   ]
  },
  {
   "cell_type": "markdown",
   "metadata": {},
   "source": [
    "# CNN Prediction"
   ]
  },
  {
   "cell_type": "code",
   "execution_count": 39,
   "metadata": {
    "scrolled": true
   },
   "outputs": [
    {
     "name": "stderr",
     "output_type": "stream",
     "text": [
      "/Users/jillkathleen/.local/lib/python3.8/site-packages/tensorflow/python/keras/engine/sequential.py:450: UserWarning: `model.predict_classes()` is deprecated and will be removed after 2021-01-01. Please use instead:* `np.argmax(model.predict(x), axis=-1)`,   if your model does multi-class classification   (e.g. if it uses a `softmax` last-layer activation).* `(model.predict(x) > 0.5).astype(\"int32\")`,   if your model does binary classification   (e.g. if it uses a `sigmoid` last-layer activation).\n",
      "  warnings.warn('`model.predict_classes()` is deprecated and '\n",
      "/Users/jillkathleen/.local/lib/python3.8/site-packages/tensorflow/python/keras/engine/training.py:2325: UserWarning: `Model.state_updates` will be removed in a future version. This property should not be used in TensorFlow 2.0, as `updates` are applied automatically.\n",
      "  warnings.warn('`Model.state_updates` will be removed in a future version. '\n"
     ]
    }
   ],
   "source": [
    "y_pred = proposed.predict_classes(X_test, batch_size=128, verbose=2)"
   ]
  },
  {
   "cell_type": "code",
   "execution_count": 40,
   "metadata": {},
   "outputs": [],
   "source": [
    "## Decision Tree and Random Forest\n",
    "\n"
   ]
  },
  {
   "cell_type": "markdown",
   "metadata": {},
   "source": [
    "# CNN Visualization"
   ]
  },
  {
   "cell_type": "code",
   "execution_count": 41,
   "metadata": {},
   "outputs": [],
   "source": [
    "def plot_confusion_matrix(cm, classes,\n",
    "                          normalize=False,\n",
    "                          cmap=plt.cm.Blues):\n",
    "    \"\"\"\n",
    "    This function prints and plots the confusion matrix.\n",
    "    Normalization can be applied by setting `normalize=True`.\n",
    "    \"\"\"\n",
    "    if normalize:\n",
    "        cm = cm.astype('float') / cm.sum(axis=1)[:, np.newaxis]\n",
    "        title='Normalized confusion matrix'\n",
    "    else:\n",
    "        title='Confusion matrix'\n",
    "\n",
    "    plt.imshow(cm, interpolation='nearest', cmap=cmap)\n",
    "    plt.title(title)\n",
    "    plt.colorbar()\n",
    "    tick_marks = np.arange(len(classes))\n",
    "    plt.xticks(tick_marks, classes, rotation=45)\n",
    "    plt.yticks(tick_marks, classes)\n",
    "\n",
    "    fmt = '.2f' if normalize else 'd'\n",
    "    thresh = cm.max() / 2.\n",
    "    for i, j in itertools.product(range(cm.shape[0]), range(cm.shape[1])):\n",
    "        plt.text(j, i, format(cm[i, j], fmt),\n",
    "                 horizontalalignment=\"center\",\n",
    "                 color=\"white\" if cm[i, j] > thresh else \"black\")\n",
    "\n",
    "    plt.tight_layout()\n",
    "    plt.ylabel('True label')\n",
    "    plt.xlabel('Predicted label')\n",
    "    plt.show()\n",
    "    \n",
    "## multiclass or binary report\n",
    "## If binary (sigmoid output), set binary parameter to True\n",
    "def full_multiclass_report(model,\n",
    "                           x,\n",
    "                           y_true,\n",
    "                           classes,\n",
    "                           batch_size=32,\n",
    "                           binary=False):\n",
    "\n",
    "    # 1. Transform one-hot encoded y_true into their class number\n",
    "    if not binary:\n",
    "        y_true = np.argmax(y_true,axis=1)\n",
    "    \n",
    "    # 2. Predict classes and stores in y_pred\n",
    "    y_pred = model.predict_classes(x, batch_size=batch_size)\n",
    "    \n",
    "    # 3. Print accuracy score\n",
    "    print(\"Accuracy : \"+ str(accuracy_score(y_true,y_pred)))\n",
    "    \n",
    "    print(\"\")\n",
    "    \n",
    "    # 4. Print classification report\n",
    "    print(\"Classification Report\")\n",
    "    print(classification_report(y_true,predictions,digits=5))    \n",
    "    \n",
    "    # 5. Plot confusion matrix\n",
    "    cnf_matrix = confusion_matrix(y_true,predictions)\n",
    "    print(cnf_matrix)\n",
    "    plot_confusion_matrix(cnf_matrix,classes=classes)"
   ]
  },
  {
   "cell_type": "code",
   "execution_count": 42,
   "metadata": {},
   "outputs": [],
   "source": [
    "from sklearn.metrics import classification_report, accuracy_score, make_scorer\n",
    "from sklearn.model_selection import cross_val_score\n",
    "\n",
    "def classification_report_with_accuracy_score(y_test, predictions):\n",
    "\n",
    "    print (classification_report(y_test, predictions)) # print classification report\n",
    "    return accuracy_score(y_test, predictions) # return accuracy score"
   ]
  },
  {
   "cell_type": "code",
   "execution_count": 43,
   "metadata": {},
   "outputs": [
    {
     "name": "stdout",
     "output_type": "stream",
     "text": [
      "Confusion Matrix\n"
     ]
    },
    {
     "ename": "NameError",
     "evalue": "name 'predictions' is not defined",
     "output_type": "error",
     "traceback": [
      "\u001b[0;31m---------------------------------------------------------------------------\u001b[0m",
      "\u001b[0;31mNameError\u001b[0m                                 Traceback (most recent call last)",
      "\u001b[0;32m<ipython-input-43-94eae1735e6d>\u001b[0m in \u001b[0;36m<module>\u001b[0;34m\u001b[0m\n\u001b[1;32m     12\u001b[0m \u001b[0;34m\u001b[0m\u001b[0m\n\u001b[1;32m     13\u001b[0m \u001b[0mprint\u001b[0m\u001b[0;34m(\u001b[0m\u001b[0;34m'Confusion Matrix'\u001b[0m\u001b[0;34m)\u001b[0m\u001b[0;34m\u001b[0m\u001b[0;34m\u001b[0m\u001b[0m\n\u001b[0;32m---> 14\u001b[0;31m \u001b[0mprint\u001b[0m\u001b[0;34m(\u001b[0m\u001b[0mconfusion_matrix\u001b[0m\u001b[0;34m(\u001b[0m\u001b[0my_test\u001b[0m\u001b[0;34m,\u001b[0m \u001b[0mpredictions\u001b[0m\u001b[0;34m)\u001b[0m\u001b[0;34m)\u001b[0m\u001b[0;34m\u001b[0m\u001b[0;34m\u001b[0m\u001b[0m\n\u001b[0m\u001b[1;32m     15\u001b[0m \u001b[0;34m\u001b[0m\u001b[0m\n\u001b[1;32m     16\u001b[0m \u001b[0mprint\u001b[0m\u001b[0;34m(\u001b[0m\u001b[0;34m''\u001b[0m\u001b[0;34m)\u001b[0m\u001b[0;34m\u001b[0m\u001b[0;34m\u001b[0m\u001b[0m\n",
      "\u001b[0;31mNameError\u001b[0m: name 'predictions' is not defined"
     ]
    }
   ],
   "source": [
    "from sklearn.metrics import confusion_matrix,classification_report\n",
    "\n",
    "# demonstration of calculating metrics for a neural network model using sklearn\n",
    "from sklearn.datasets import make_circles\n",
    "from sklearn.metrics import accuracy_score\n",
    "from sklearn.metrics import precision_score\n",
    "from sklearn.metrics import recall_score\n",
    "from sklearn.metrics import f1_score\n",
    "from sklearn.metrics import cohen_kappa_score\n",
    "from sklearn.metrics import roc_auc_score\n",
    "# Predict the values from the test set\n",
    "\n",
    "print('Confusion Matrix')\n",
    "print(confusion_matrix(y_test, predictions))\n",
    "\n",
    "print('')\n",
    "print('Classification Report')\n",
    "target_names = ['Phishing', 'Benign']\n",
    "print(classification_report(y_test, predictions, target_names=target_names))\n",
    "\n",
    "# accuracy: (tp + tn) / (p + n)\n",
    "accuracy = accuracy_score(y_test, predictions)\n",
    "print('Accuracy: %.2f%%' % accuracy)\n",
    "# precision tp / (tp + fp)\n",
    "precision = precision_score(y_test, predictions)\n",
    "print('Precision: %.2f%%' % precision)\n",
    "# recall: tp / (tp + fn)\n",
    "recall = recall_score(y_test, predictions)\n",
    "print('Recall: %.2f%%' % recall)\n",
    "# f1: 2 tp / (2 tp + fp + fn)\n",
    "f1 = f1_score(y_test, predictions)\n",
    "print('F1 score: %.2f%%' % f1)"
   ]
  },
  {
   "cell_type": "markdown",
   "metadata": {},
   "source": [
    "# CNN Confusion Matrix"
   ]
  },
  {
   "cell_type": "code",
   "execution_count": null,
   "metadata": {},
   "outputs": [],
   "source": [
    "#y = LabelEncoder().fit_transform(dataset_2[label].values)\n",
    "\n",
    "y = dataset_shuffle['label'].values\n",
    "cm = confusion_matrix(y_test, prediction_y)\n",
    "sns.heatmap(cm, cmap='Blues', annot=True, fmt='g', xticklabels=['Benign', 'Phishing'],\n",
    "        yticklabels=['Benign', 'Phishing'])"
   ]
  },
  {
   "cell_type": "code",
   "execution_count": null,
   "metadata": {},
   "outputs": [],
   "source": []
  }
 ],
 "metadata": {
  "kernelspec": {
   "display_name": "Python 3",
   "language": "python",
   "name": "python3"
  },
  "language_info": {
   "codemirror_mode": {
    "name": "ipython",
    "version": 3
   },
   "file_extension": ".py",
   "mimetype": "text/x-python",
   "name": "python",
   "nbconvert_exporter": "python",
   "pygments_lexer": "ipython3",
   "version": "3.8.5"
  }
 },
 "nbformat": 4,
 "nbformat_minor": 4
}
