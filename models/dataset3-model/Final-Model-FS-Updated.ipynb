{
 "cells": [
  {
   "cell_type": "code",
   "execution_count": 1,
   "metadata": {},
   "outputs": [],
   "source": [
    "import os\n",
    "os.environ[\"TF_DETERMINISTIC_OPS\"] = \"1\""
   ]
  },
  {
   "cell_type": "code",
   "execution_count": 2,
   "metadata": {},
   "outputs": [],
   "source": [
    "\n",
    "from sklearn.preprocessing import StandardScaler, MinMaxScaler\n",
    "import numpy as np\n",
    "import pandas as pd\n",
    "from sklearn.utils import shuffle\n",
    "from sklearn.model_selection import train_test_split\n",
    "import seaborn as sns\n",
    "from matplotlib import pyplot as plt\n",
    "\n",
    "from sklearn.utils import shuffle\n",
    "\n",
    "from sklearn.model_selection import train_test_split\n",
    "from sklearn import metrics\n",
    "from sklearn.metrics import classification_report, confusion_matrix, accuracy_score\n",
    "from sklearn.metrics import precision_score, recall_score, f1_score\n",
    "\n",
    "#reproducible results\n",
    "import random\n",
    "\n",
    "#feature selection\n",
    "from sklearn.feature_selection import RFE"
   ]
  },
  {
   "cell_type": "code",
   "execution_count": 3,
   "metadata": {},
   "outputs": [
    {
     "name": "stdout",
     "output_type": "stream",
     "text": [
      "WARNING:tensorflow:From /Users/jillkathleen/.local/lib/python3.8/site-packages/tensorflow/python/compat/v2_compat.py:96: disable_resource_variables (from tensorflow.python.ops.variable_scope) is deprecated and will be removed in a future version.\n",
      "Instructions for updating:\n",
      "non-resource variables are not supported in the long term\n",
      "2.4.0\n"
     ]
    }
   ],
   "source": [
    "# CNN model\n",
    "\n",
    "#importing required packages\n",
    "\n",
    "import tensorflow as tf\n",
    "import tensorflow.keras as k\n",
    "\n",
    "from tensorflow.keras import Sequential\n",
    "from tensorflow.keras import models\n",
    "from tensorflow.keras.layers import GlobalMaxPooling1D, Activation, Dense, Flatten, Conv1D, MaxPooling1D, Dropout, BatchNormalization\n",
    "from keras import regularizers\n",
    "\n",
    "from tensorflow.keras.losses import sparse_categorical_crossentropy\n",
    "from tensorflow.keras.optimizers import Adam\n",
    "from keras.regularizers import l1\n",
    "from sklearn.model_selection import KFold\n",
    "import random as rn\n",
    "\n",
    "import tensorflow.compat.v1 as tf\n",
    "tf.disable_v2_behavior()\n",
    "\n",
    "\n",
    "print(tf.__version__)"
   ]
  },
  {
   "cell_type": "code",
   "execution_count": 4,
   "metadata": {},
   "outputs": [],
   "source": [
    "# Fix random seeds for Reproducibility\n",
    "\n",
    "SEED = 888\n",
    "\n",
    "tf.random.set_random_seed(SEED)\n",
    "\n",
    "np.random.seed(SEED)\n",
    "\n",
    "rn.seed(SEED)"
   ]
  },
  {
   "cell_type": "markdown",
   "metadata": {},
   "source": [
    "## Importing dataset"
   ]
  },
  {
   "cell_type": "code",
   "execution_count": 5,
   "metadata": {},
   "outputs": [],
   "source": [
    "\n",
    "dataset = pd.read_csv('/Users/jillkathleen/Desktop/Phishing-Analysis-Detection/Back-End/Extracted CSVs/from FeatureExtraction/Data-3/D3_finaldata_updated.csv')\n",
    "\n"
   ]
  },
  {
   "cell_type": "code",
   "execution_count": 6,
   "metadata": {},
   "outputs": [
    {
     "data": {
      "text/html": [
       "<div>\n",
       "<style scoped>\n",
       "    .dataframe tbody tr th:only-of-type {\n",
       "        vertical-align: middle;\n",
       "    }\n",
       "\n",
       "    .dataframe tbody tr th {\n",
       "        vertical-align: top;\n",
       "    }\n",
       "\n",
       "    .dataframe thead th {\n",
       "        text-align: right;\n",
       "    }\n",
       "</style>\n",
       "<table border=\"1\" class=\"dataframe\">\n",
       "  <thead>\n",
       "    <tr style=\"text-align: right;\">\n",
       "      <th></th>\n",
       "      <th>domain</th>\n",
       "      <th>ip_present</th>\n",
       "      <th>at_present</th>\n",
       "      <th>url_length</th>\n",
       "      <th>url_depth</th>\n",
       "      <th>redirection</th>\n",
       "      <th>https_domain</th>\n",
       "      <th>short_url</th>\n",
       "      <th>prefix/suffix</th>\n",
       "      <th>dns_record</th>\n",
       "      <th>web_traffic</th>\n",
       "      <th>domain_age</th>\n",
       "      <th>domain_end</th>\n",
       "      <th>dot_count</th>\n",
       "      <th>specialchar_count</th>\n",
       "      <th>subdom_count</th>\n",
       "      <th>label</th>\n",
       "    </tr>\n",
       "  </thead>\n",
       "  <tbody>\n",
       "    <tr>\n",
       "      <th>0</th>\n",
       "      <td>graphicriver.net</td>\n",
       "      <td>0</td>\n",
       "      <td>0</td>\n",
       "      <td>1</td>\n",
       "      <td>1</td>\n",
       "      <td>0</td>\n",
       "      <td>0</td>\n",
       "      <td>0</td>\n",
       "      <td>0</td>\n",
       "      <td>0</td>\n",
       "      <td>1</td>\n",
       "      <td>1</td>\n",
       "      <td>1</td>\n",
       "      <td>0</td>\n",
       "      <td>29</td>\n",
       "      <td>0</td>\n",
       "      <td>0</td>\n",
       "    </tr>\n",
       "    <tr>\n",
       "      <th>1</th>\n",
       "      <td>ecnavi.jp</td>\n",
       "      <td>0</td>\n",
       "      <td>0</td>\n",
       "      <td>1</td>\n",
       "      <td>1</td>\n",
       "      <td>1</td>\n",
       "      <td>0</td>\n",
       "      <td>0</td>\n",
       "      <td>0</td>\n",
       "      <td>0</td>\n",
       "      <td>1</td>\n",
       "      <td>1</td>\n",
       "      <td>1</td>\n",
       "      <td>1</td>\n",
       "      <td>21</td>\n",
       "      <td>0</td>\n",
       "      <td>0</td>\n",
       "    </tr>\n",
       "    <tr>\n",
       "      <th>2</th>\n",
       "      <td>hubpages.com</td>\n",
       "      <td>0</td>\n",
       "      <td>0</td>\n",
       "      <td>1</td>\n",
       "      <td>1</td>\n",
       "      <td>0</td>\n",
       "      <td>0</td>\n",
       "      <td>0</td>\n",
       "      <td>0</td>\n",
       "      <td>0</td>\n",
       "      <td>1</td>\n",
       "      <td>0</td>\n",
       "      <td>1</td>\n",
       "      <td>0</td>\n",
       "      <td>8</td>\n",
       "      <td>0</td>\n",
       "      <td>0</td>\n",
       "    </tr>\n",
       "    <tr>\n",
       "      <th>3</th>\n",
       "      <td>extratorrent.cc</td>\n",
       "      <td>0</td>\n",
       "      <td>0</td>\n",
       "      <td>1</td>\n",
       "      <td>3</td>\n",
       "      <td>0</td>\n",
       "      <td>0</td>\n",
       "      <td>0</td>\n",
       "      <td>0</td>\n",
       "      <td>0</td>\n",
       "      <td>0</td>\n",
       "      <td>0</td>\n",
       "      <td>1</td>\n",
       "      <td>1</td>\n",
       "      <td>6</td>\n",
       "      <td>0</td>\n",
       "      <td>0</td>\n",
       "    </tr>\n",
       "    <tr>\n",
       "      <th>4</th>\n",
       "      <td>icicibank.com</td>\n",
       "      <td>0</td>\n",
       "      <td>0</td>\n",
       "      <td>1</td>\n",
       "      <td>3</td>\n",
       "      <td>0</td>\n",
       "      <td>0</td>\n",
       "      <td>0</td>\n",
       "      <td>0</td>\n",
       "      <td>0</td>\n",
       "      <td>1</td>\n",
       "      <td>0</td>\n",
       "      <td>1</td>\n",
       "      <td>0</td>\n",
       "      <td>8</td>\n",
       "      <td>0</td>\n",
       "      <td>0</td>\n",
       "    </tr>\n",
       "    <tr>\n",
       "      <th>...</th>\n",
       "      <td>...</td>\n",
       "      <td>...</td>\n",
       "      <td>...</td>\n",
       "      <td>...</td>\n",
       "      <td>...</td>\n",
       "      <td>...</td>\n",
       "      <td>...</td>\n",
       "      <td>...</td>\n",
       "      <td>...</td>\n",
       "      <td>...</td>\n",
       "      <td>...</td>\n",
       "      <td>...</td>\n",
       "      <td>...</td>\n",
       "      <td>...</td>\n",
       "      <td>...</td>\n",
       "      <td>...</td>\n",
       "      <td>...</td>\n",
       "    </tr>\n",
       "    <tr>\n",
       "      <th>11995</th>\n",
       "      <td>polska-olx.pl</td>\n",
       "      <td>0</td>\n",
       "      <td>0</td>\n",
       "      <td>0</td>\n",
       "      <td>2</td>\n",
       "      <td>0</td>\n",
       "      <td>0</td>\n",
       "      <td>0</td>\n",
       "      <td>1</td>\n",
       "      <td>0</td>\n",
       "      <td>1</td>\n",
       "      <td>1</td>\n",
       "      <td>1</td>\n",
       "      <td>0</td>\n",
       "      <td>6</td>\n",
       "      <td>0</td>\n",
       "      <td>1</td>\n",
       "    </tr>\n",
       "    <tr>\n",
       "      <th>11996</th>\n",
       "      <td>fb-updates-1000151020200412545154000588-mc.tk</td>\n",
       "      <td>0</td>\n",
       "      <td>0</td>\n",
       "      <td>1</td>\n",
       "      <td>1</td>\n",
       "      <td>0</td>\n",
       "      <td>0</td>\n",
       "      <td>0</td>\n",
       "      <td>1</td>\n",
       "      <td>0</td>\n",
       "      <td>1</td>\n",
       "      <td>1</td>\n",
       "      <td>1</td>\n",
       "      <td>0</td>\n",
       "      <td>4</td>\n",
       "      <td>0</td>\n",
       "      <td>1</td>\n",
       "    </tr>\n",
       "    <tr>\n",
       "      <th>11997</th>\n",
       "      <td>whattsapps.misecure.com</td>\n",
       "      <td>0</td>\n",
       "      <td>0</td>\n",
       "      <td>0</td>\n",
       "      <td>0</td>\n",
       "      <td>0</td>\n",
       "      <td>0</td>\n",
       "      <td>0</td>\n",
       "      <td>0</td>\n",
       "      <td>0</td>\n",
       "      <td>0</td>\n",
       "      <td>0</td>\n",
       "      <td>1</td>\n",
       "      <td>0</td>\n",
       "      <td>4</td>\n",
       "      <td>1</td>\n",
       "      <td>1</td>\n",
       "    </tr>\n",
       "    <tr>\n",
       "      <th>11998</th>\n",
       "      <td>nfta.co.za</td>\n",
       "      <td>0</td>\n",
       "      <td>0</td>\n",
       "      <td>1</td>\n",
       "      <td>2</td>\n",
       "      <td>0</td>\n",
       "      <td>0</td>\n",
       "      <td>0</td>\n",
       "      <td>0</td>\n",
       "      <td>0</td>\n",
       "      <td>1</td>\n",
       "      <td>1</td>\n",
       "      <td>1</td>\n",
       "      <td>1</td>\n",
       "      <td>5</td>\n",
       "      <td>1</td>\n",
       "      <td>1</td>\n",
       "    </tr>\n",
       "    <tr>\n",
       "      <th>11999</th>\n",
       "      <td>site9423773.92.webydo.com</td>\n",
       "      <td>0</td>\n",
       "      <td>0</td>\n",
       "      <td>0</td>\n",
       "      <td>0</td>\n",
       "      <td>0</td>\n",
       "      <td>0</td>\n",
       "      <td>0</td>\n",
       "      <td>0</td>\n",
       "      <td>0</td>\n",
       "      <td>0</td>\n",
       "      <td>1</td>\n",
       "      <td>1</td>\n",
       "      <td>1</td>\n",
       "      <td>4</td>\n",
       "      <td>1</td>\n",
       "      <td>1</td>\n",
       "    </tr>\n",
       "  </tbody>\n",
       "</table>\n",
       "<p>12000 rows × 17 columns</p>\n",
       "</div>"
      ],
      "text/plain": [
       "                                              domain  ip_present  at_present  \\\n",
       "0                                   graphicriver.net           0           0   \n",
       "1                                          ecnavi.jp           0           0   \n",
       "2                                       hubpages.com           0           0   \n",
       "3                                    extratorrent.cc           0           0   \n",
       "4                                      icicibank.com           0           0   \n",
       "...                                              ...         ...         ...   \n",
       "11995                                  polska-olx.pl           0           0   \n",
       "11996  fb-updates-1000151020200412545154000588-mc.tk           0           0   \n",
       "11997                        whattsapps.misecure.com           0           0   \n",
       "11998                                     nfta.co.za           0           0   \n",
       "11999                      site9423773.92.webydo.com           0           0   \n",
       "\n",
       "       url_length  url_depth  redirection  https_domain  short_url  \\\n",
       "0               1          1            0             0          0   \n",
       "1               1          1            1             0          0   \n",
       "2               1          1            0             0          0   \n",
       "3               1          3            0             0          0   \n",
       "4               1          3            0             0          0   \n",
       "...           ...        ...          ...           ...        ...   \n",
       "11995           0          2            0             0          0   \n",
       "11996           1          1            0             0          0   \n",
       "11997           0          0            0             0          0   \n",
       "11998           1          2            0             0          0   \n",
       "11999           0          0            0             0          0   \n",
       "\n",
       "       prefix/suffix  dns_record  web_traffic  domain_age  domain_end  \\\n",
       "0                  0           0            1           1           1   \n",
       "1                  0           0            1           1           1   \n",
       "2                  0           0            1           0           1   \n",
       "3                  0           0            0           0           1   \n",
       "4                  0           0            1           0           1   \n",
       "...              ...         ...          ...         ...         ...   \n",
       "11995              1           0            1           1           1   \n",
       "11996              1           0            1           1           1   \n",
       "11997              0           0            0           0           1   \n",
       "11998              0           0            1           1           1   \n",
       "11999              0           0            0           1           1   \n",
       "\n",
       "       dot_count  specialchar_count  subdom_count  label  \n",
       "0              0                 29             0      0  \n",
       "1              1                 21             0      0  \n",
       "2              0                  8             0      0  \n",
       "3              1                  6             0      0  \n",
       "4              0                  8             0      0  \n",
       "...          ...                ...           ...    ...  \n",
       "11995          0                  6             0      1  \n",
       "11996          0                  4             0      1  \n",
       "11997          0                  4             1      1  \n",
       "11998          1                  5             1      1  \n",
       "11999          1                  4             1      1  \n",
       "\n",
       "[12000 rows x 17 columns]"
      ]
     },
     "execution_count": 6,
     "metadata": {},
     "output_type": "execute_result"
    }
   ],
   "source": [
    "dataset"
   ]
  },
  {
   "cell_type": "markdown",
   "metadata": {},
   "source": [
    "## EDA"
   ]
  },
  {
   "cell_type": "code",
   "execution_count": 7,
   "metadata": {},
   "outputs": [
    {
     "data": {
      "text/plain": [
       "domain               0\n",
       "ip_present           0\n",
       "at_present           0\n",
       "url_length           0\n",
       "url_depth            0\n",
       "redirection          0\n",
       "https_domain         0\n",
       "short_url            0\n",
       "prefix/suffix        0\n",
       "dns_record           0\n",
       "web_traffic          0\n",
       "domain_age           0\n",
       "domain_end           0\n",
       "dot_count            0\n",
       "specialchar_count    0\n",
       "subdom_count         0\n",
       "label                0\n",
       "dtype: int64"
      ]
     },
     "execution_count": 7,
     "metadata": {},
     "output_type": "execute_result"
    }
   ],
   "source": [
    "# Look for missing values\n",
    "dataset.isnull().sum()   \n",
    "\n",
    "# No missing values found, so no need to drop or replace any value"
   ]
  },
  {
   "cell_type": "code",
   "execution_count": 8,
   "metadata": {},
   "outputs": [
    {
     "data": {
      "text/plain": [
       "0    6000\n",
       "1    6000\n",
       "Name: label, dtype: int64"
      ]
     },
     "execution_count": 8,
     "metadata": {},
     "output_type": "execute_result"
    }
   ],
   "source": [
    "# Count class label\n",
    "\n",
    "dataset['label'].value_counts()\n",
    "\n",
    "# 0 Legitimate\n",
    "# 1 Phishing"
   ]
  },
  {
   "cell_type": "code",
   "execution_count": 9,
   "metadata": {},
   "outputs": [
    {
     "data": {
      "text/plain": [
       "<AxesSubplot:xlabel='label', ylabel='count'>"
      ]
     },
     "execution_count": 9,
     "metadata": {},
     "output_type": "execute_result"
    },
    {
     "data": {
      "image/png": "[encoded data removed]",
      "text/plain": [
       "<Figure size 432x288 with 1 Axes>"
      ]
     },
     "metadata": {
      "needs_background": "light"
     },
     "output_type": "display_data"
    }
   ],
   "source": [
    "sns.countplot(x= 'label' , data = dataset)"
   ]
  },
  {
   "cell_type": "code",
   "execution_count": 10,
   "metadata": {},
   "outputs": [
    {
     "data": {
      "text/plain": [
       "Index(['domain', 'ip_present', 'at_present', 'url_length', 'url_depth',\n",
       "       'redirection', 'https_domain', 'short_url', 'prefix/suffix',\n",
       "       'dns_record', 'web_traffic', 'domain_age', 'domain_end', 'dot_count',\n",
       "       'specialchar_count', 'subdom_count', 'label'],\n",
       "      dtype='object')"
      ]
     },
     "execution_count": 10,
     "metadata": {},
     "output_type": "execute_result"
    }
   ],
   "source": [
    "dataset.columns"
   ]
  },
  {
   "cell_type": "code",
   "execution_count": 11,
   "metadata": {},
   "outputs": [
    {
     "data": {
      "text/html": [
       "<div>\n",
       "<style scoped>\n",
       "    .dataframe tbody tr th:only-of-type {\n",
       "        vertical-align: middle;\n",
       "    }\n",
       "\n",
       "    .dataframe tbody tr th {\n",
       "        vertical-align: top;\n",
       "    }\n",
       "\n",
       "    .dataframe thead th {\n",
       "        text-align: right;\n",
       "    }\n",
       "</style>\n",
       "<table border=\"1\" class=\"dataframe\">\n",
       "  <thead>\n",
       "    <tr style=\"text-align: right;\">\n",
       "      <th></th>\n",
       "      <th>ip_present</th>\n",
       "      <th>at_present</th>\n",
       "      <th>url_length</th>\n",
       "      <th>url_depth</th>\n",
       "      <th>redirection</th>\n",
       "      <th>https_domain</th>\n",
       "      <th>short_url</th>\n",
       "      <th>prefix/suffix</th>\n",
       "      <th>dns_record</th>\n",
       "      <th>web_traffic</th>\n",
       "      <th>domain_age</th>\n",
       "      <th>domain_end</th>\n",
       "      <th>dot_count</th>\n",
       "      <th>specialchar_count</th>\n",
       "      <th>subdom_count</th>\n",
       "      <th>label</th>\n",
       "    </tr>\n",
       "  </thead>\n",
       "  <tbody>\n",
       "    <tr>\n",
       "      <th>count</th>\n",
       "      <td>12000.0</td>\n",
       "      <td>12000.000000</td>\n",
       "      <td>12000.000000</td>\n",
       "      <td>12000.000000</td>\n",
       "      <td>12000.000000</td>\n",
       "      <td>12000.0</td>\n",
       "      <td>12000.000000</td>\n",
       "      <td>12000.000000</td>\n",
       "      <td>12000.000000</td>\n",
       "      <td>12000.000000</td>\n",
       "      <td>12000.000000</td>\n",
       "      <td>12000.000000</td>\n",
       "      <td>12000.000000</td>\n",
       "      <td>12000.00000</td>\n",
       "      <td>12000.000000</td>\n",
       "      <td>12000.000000</td>\n",
       "    </tr>\n",
       "    <tr>\n",
       "      <th>mean</th>\n",
       "      <td>0.0</td>\n",
       "      <td>0.024333</td>\n",
       "      <td>0.731083</td>\n",
       "      <td>2.657000</td>\n",
       "      <td>0.012667</td>\n",
       "      <td>0.0</td>\n",
       "      <td>0.095833</td>\n",
       "      <td>0.155917</td>\n",
       "      <td>0.048667</td>\n",
       "      <td>0.840333</td>\n",
       "      <td>0.528917</td>\n",
       "      <td>0.842667</td>\n",
       "      <td>0.239083</td>\n",
       "      <td>7.95650</td>\n",
       "      <td>0.287917</td>\n",
       "      <td>0.500000</td>\n",
       "    </tr>\n",
       "    <tr>\n",
       "      <th>std</th>\n",
       "      <td>0.0</td>\n",
       "      <td>0.154088</td>\n",
       "      <td>0.443415</td>\n",
       "      <td>2.126004</td>\n",
       "      <td>0.111836</td>\n",
       "      <td>0.0</td>\n",
       "      <td>0.294375</td>\n",
       "      <td>0.362791</td>\n",
       "      <td>0.215179</td>\n",
       "      <td>0.366312</td>\n",
       "      <td>0.499184</td>\n",
       "      <td>0.364130</td>\n",
       "      <td>0.426542</td>\n",
       "      <td>5.19601</td>\n",
       "      <td>0.452811</td>\n",
       "      <td>0.500021</td>\n",
       "    </tr>\n",
       "    <tr>\n",
       "      <th>min</th>\n",
       "      <td>0.0</td>\n",
       "      <td>0.000000</td>\n",
       "      <td>0.000000</td>\n",
       "      <td>0.000000</td>\n",
       "      <td>0.000000</td>\n",
       "      <td>0.0</td>\n",
       "      <td>0.000000</td>\n",
       "      <td>0.000000</td>\n",
       "      <td>0.000000</td>\n",
       "      <td>0.000000</td>\n",
       "      <td>0.000000</td>\n",
       "      <td>0.000000</td>\n",
       "      <td>0.000000</td>\n",
       "      <td>3.00000</td>\n",
       "      <td>0.000000</td>\n",
       "      <td>0.000000</td>\n",
       "    </tr>\n",
       "    <tr>\n",
       "      <th>25%</th>\n",
       "      <td>0.0</td>\n",
       "      <td>0.000000</td>\n",
       "      <td>0.000000</td>\n",
       "      <td>1.000000</td>\n",
       "      <td>0.000000</td>\n",
       "      <td>0.0</td>\n",
       "      <td>0.000000</td>\n",
       "      <td>0.000000</td>\n",
       "      <td>0.000000</td>\n",
       "      <td>1.000000</td>\n",
       "      <td>0.000000</td>\n",
       "      <td>1.000000</td>\n",
       "      <td>0.000000</td>\n",
       "      <td>5.00000</td>\n",
       "      <td>0.000000</td>\n",
       "      <td>0.000000</td>\n",
       "    </tr>\n",
       "    <tr>\n",
       "      <th>50%</th>\n",
       "      <td>0.0</td>\n",
       "      <td>0.000000</td>\n",
       "      <td>1.000000</td>\n",
       "      <td>2.000000</td>\n",
       "      <td>0.000000</td>\n",
       "      <td>0.0</td>\n",
       "      <td>0.000000</td>\n",
       "      <td>0.000000</td>\n",
       "      <td>0.000000</td>\n",
       "      <td>1.000000</td>\n",
       "      <td>1.000000</td>\n",
       "      <td>1.000000</td>\n",
       "      <td>0.000000</td>\n",
       "      <td>7.00000</td>\n",
       "      <td>0.000000</td>\n",
       "      <td>0.500000</td>\n",
       "    </tr>\n",
       "    <tr>\n",
       "      <th>75%</th>\n",
       "      <td>0.0</td>\n",
       "      <td>0.000000</td>\n",
       "      <td>1.000000</td>\n",
       "      <td>4.000000</td>\n",
       "      <td>0.000000</td>\n",
       "      <td>0.0</td>\n",
       "      <td>0.000000</td>\n",
       "      <td>0.000000</td>\n",
       "      <td>0.000000</td>\n",
       "      <td>1.000000</td>\n",
       "      <td>1.000000</td>\n",
       "      <td>1.000000</td>\n",
       "      <td>0.000000</td>\n",
       "      <td>9.00000</td>\n",
       "      <td>1.000000</td>\n",
       "      <td>1.000000</td>\n",
       "    </tr>\n",
       "    <tr>\n",
       "      <th>max</th>\n",
       "      <td>0.0</td>\n",
       "      <td>1.000000</td>\n",
       "      <td>1.000000</td>\n",
       "      <td>20.000000</td>\n",
       "      <td>1.000000</td>\n",
       "      <td>0.0</td>\n",
       "      <td>1.000000</td>\n",
       "      <td>1.000000</td>\n",
       "      <td>1.000000</td>\n",
       "      <td>1.000000</td>\n",
       "      <td>1.000000</td>\n",
       "      <td>1.000000</td>\n",
       "      <td>1.000000</td>\n",
       "      <td>169.00000</td>\n",
       "      <td>1.000000</td>\n",
       "      <td>1.000000</td>\n",
       "    </tr>\n",
       "  </tbody>\n",
       "</table>\n",
       "</div>"
      ],
      "text/plain": [
       "       ip_present    at_present    url_length     url_depth   redirection  \\\n",
       "count     12000.0  12000.000000  12000.000000  12000.000000  12000.000000   \n",
       "mean          0.0      0.024333      0.731083      2.657000      0.012667   \n",
       "std           0.0      0.154088      0.443415      2.126004      0.111836   \n",
       "min           0.0      0.000000      0.000000      0.000000      0.000000   \n",
       "25%           0.0      0.000000      0.000000      1.000000      0.000000   \n",
       "50%           0.0      0.000000      1.000000      2.000000      0.000000   \n",
       "75%           0.0      0.000000      1.000000      4.000000      0.000000   \n",
       "max           0.0      1.000000      1.000000     20.000000      1.000000   \n",
       "\n",
       "       https_domain     short_url  prefix/suffix    dns_record   web_traffic  \\\n",
       "count       12000.0  12000.000000   12000.000000  12000.000000  12000.000000   \n",
       "mean            0.0      0.095833       0.155917      0.048667      0.840333   \n",
       "std             0.0      0.294375       0.362791      0.215179      0.366312   \n",
       "min             0.0      0.000000       0.000000      0.000000      0.000000   \n",
       "25%             0.0      0.000000       0.000000      0.000000      1.000000   \n",
       "50%             0.0      0.000000       0.000000      0.000000      1.000000   \n",
       "75%             0.0      0.000000       0.000000      0.000000      1.000000   \n",
       "max             0.0      1.000000       1.000000      1.000000      1.000000   \n",
       "\n",
       "         domain_age    domain_end     dot_count  specialchar_count  \\\n",
       "count  12000.000000  12000.000000  12000.000000        12000.00000   \n",
       "mean       0.528917      0.842667      0.239083            7.95650   \n",
       "std        0.499184      0.364130      0.426542            5.19601   \n",
       "min        0.000000      0.000000      0.000000            3.00000   \n",
       "25%        0.000000      1.000000      0.000000            5.00000   \n",
       "50%        1.000000      1.000000      0.000000            7.00000   \n",
       "75%        1.000000      1.000000      0.000000            9.00000   \n",
       "max        1.000000      1.000000      1.000000          169.00000   \n",
       "\n",
       "       subdom_count         label  \n",
       "count  12000.000000  12000.000000  \n",
       "mean       0.287917      0.500000  \n",
       "std        0.452811      0.500021  \n",
       "min        0.000000      0.000000  \n",
       "25%        0.000000      0.000000  \n",
       "50%        0.000000      0.500000  \n",
       "75%        1.000000      1.000000  \n",
       "max        1.000000      1.000000  "
      ]
     },
     "execution_count": 11,
     "metadata": {},
     "output_type": "execute_result"
    }
   ],
   "source": [
    "dataset.describe()"
   ]
  },
  {
   "cell_type": "code",
   "execution_count": 12,
   "metadata": {},
   "outputs": [
    {
     "name": "stdout",
     "output_type": "stream",
     "text": [
      "<class 'pandas.core.frame.DataFrame'>\n",
      "RangeIndex: 12000 entries, 0 to 11999\n",
      "Data columns (total 17 columns):\n",
      " #   Column             Non-Null Count  Dtype \n",
      "---  ------             --------------  ----- \n",
      " 0   domain             12000 non-null  object\n",
      " 1   ip_present         12000 non-null  int64 \n",
      " 2   at_present         12000 non-null  int64 \n",
      " 3   url_length         12000 non-null  int64 \n",
      " 4   url_depth          12000 non-null  int64 \n",
      " 5   redirection        12000 non-null  int64 \n",
      " 6   https_domain       12000 non-null  int64 \n",
      " 7   short_url          12000 non-null  int64 \n",
      " 8   prefix/suffix      12000 non-null  int64 \n",
      " 9   dns_record         12000 non-null  int64 \n",
      " 10  web_traffic        12000 non-null  int64 \n",
      " 11  domain_age         12000 non-null  int64 \n",
      " 12  domain_end         12000 non-null  int64 \n",
      " 13  dot_count          12000 non-null  int64 \n",
      " 14  specialchar_count  12000 non-null  int64 \n",
      " 15  subdom_count       12000 non-null  int64 \n",
      " 16  label              12000 non-null  int64 \n",
      "dtypes: int64(16), object(1)\n",
      "memory usage: 1.6+ MB\n"
     ]
    }
   ],
   "source": [
    "dataset.info()"
   ]
  },
  {
   "cell_type": "code",
   "execution_count": 13,
   "metadata": {},
   "outputs": [
    {
     "data": {
      "text/html": [
       "<div>\n",
       "<style scoped>\n",
       "    .dataframe tbody tr th:only-of-type {\n",
       "        vertical-align: middle;\n",
       "    }\n",
       "\n",
       "    .dataframe tbody tr th {\n",
       "        vertical-align: top;\n",
       "    }\n",
       "\n",
       "    .dataframe thead th {\n",
       "        text-align: right;\n",
       "    }\n",
       "</style>\n",
       "<table border=\"1\" class=\"dataframe\">\n",
       "  <thead>\n",
       "    <tr style=\"text-align: right;\">\n",
       "      <th></th>\n",
       "      <th>domain</th>\n",
       "      <th>ip_present</th>\n",
       "      <th>at_present</th>\n",
       "      <th>url_length</th>\n",
       "      <th>url_depth</th>\n",
       "      <th>redirection</th>\n",
       "      <th>https_domain</th>\n",
       "      <th>short_url</th>\n",
       "      <th>prefix/suffix</th>\n",
       "      <th>dns_record</th>\n",
       "      <th>web_traffic</th>\n",
       "      <th>domain_age</th>\n",
       "      <th>domain_end</th>\n",
       "      <th>dot_count</th>\n",
       "      <th>specialchar_count</th>\n",
       "      <th>subdom_count</th>\n",
       "      <th>label</th>\n",
       "    </tr>\n",
       "  </thead>\n",
       "  <tbody>\n",
       "    <tr>\n",
       "      <th>1935</th>\n",
       "      <td>extratorrent.cc</td>\n",
       "      <td>0</td>\n",
       "      <td>0</td>\n",
       "      <td>1</td>\n",
       "      <td>3</td>\n",
       "      <td>0</td>\n",
       "      <td>0</td>\n",
       "      <td>0</td>\n",
       "      <td>0</td>\n",
       "      <td>0</td>\n",
       "      <td>0</td>\n",
       "      <td>0</td>\n",
       "      <td>1</td>\n",
       "      <td>0</td>\n",
       "      <td>6</td>\n",
       "      <td>0</td>\n",
       "      <td>0</td>\n",
       "    </tr>\n",
       "    <tr>\n",
       "      <th>6494</th>\n",
       "      <td>78.143.96.35</td>\n",
       "      <td>0</td>\n",
       "      <td>0</td>\n",
       "      <td>1</td>\n",
       "      <td>3</td>\n",
       "      <td>0</td>\n",
       "      <td>0</td>\n",
       "      <td>0</td>\n",
       "      <td>0</td>\n",
       "      <td>0</td>\n",
       "      <td>1</td>\n",
       "      <td>0</td>\n",
       "      <td>1</td>\n",
       "      <td>1</td>\n",
       "      <td>19</td>\n",
       "      <td>1</td>\n",
       "      <td>1</td>\n",
       "    </tr>\n",
       "    <tr>\n",
       "      <th>1720</th>\n",
       "      <td>superuser.com</td>\n",
       "      <td>0</td>\n",
       "      <td>0</td>\n",
       "      <td>1</td>\n",
       "      <td>3</td>\n",
       "      <td>0</td>\n",
       "      <td>0</td>\n",
       "      <td>0</td>\n",
       "      <td>0</td>\n",
       "      <td>0</td>\n",
       "      <td>1</td>\n",
       "      <td>0</td>\n",
       "      <td>1</td>\n",
       "      <td>0</td>\n",
       "      <td>6</td>\n",
       "      <td>0</td>\n",
       "      <td>0</td>\n",
       "    </tr>\n",
       "    <tr>\n",
       "      <th>9120</th>\n",
       "      <td>heylink.me</td>\n",
       "      <td>0</td>\n",
       "      <td>0</td>\n",
       "      <td>0</td>\n",
       "      <td>1</td>\n",
       "      <td>0</td>\n",
       "      <td>0</td>\n",
       "      <td>1</td>\n",
       "      <td>0</td>\n",
       "      <td>0</td>\n",
       "      <td>1</td>\n",
       "      <td>0</td>\n",
       "      <td>1</td>\n",
       "      <td>0</td>\n",
       "      <td>4</td>\n",
       "      <td>0</td>\n",
       "      <td>1</td>\n",
       "    </tr>\n",
       "    <tr>\n",
       "      <th>360</th>\n",
       "      <td>torrentdn.com</td>\n",
       "      <td>0</td>\n",
       "      <td>0</td>\n",
       "      <td>1</td>\n",
       "      <td>2</td>\n",
       "      <td>0</td>\n",
       "      <td>0</td>\n",
       "      <td>0</td>\n",
       "      <td>0</td>\n",
       "      <td>0</td>\n",
       "      <td>1</td>\n",
       "      <td>1</td>\n",
       "      <td>1</td>\n",
       "      <td>0</td>\n",
       "      <td>16</td>\n",
       "      <td>0</td>\n",
       "      <td>0</td>\n",
       "    </tr>\n",
       "    <tr>\n",
       "      <th>...</th>\n",
       "      <td>...</td>\n",
       "      <td>...</td>\n",
       "      <td>...</td>\n",
       "      <td>...</td>\n",
       "      <td>...</td>\n",
       "      <td>...</td>\n",
       "      <td>...</td>\n",
       "      <td>...</td>\n",
       "      <td>...</td>\n",
       "      <td>...</td>\n",
       "      <td>...</td>\n",
       "      <td>...</td>\n",
       "      <td>...</td>\n",
       "      <td>...</td>\n",
       "      <td>...</td>\n",
       "      <td>...</td>\n",
       "      <td>...</td>\n",
       "    </tr>\n",
       "    <tr>\n",
       "      <th>11964</th>\n",
       "      <td>vmi330298.contaboserver.net</td>\n",
       "      <td>0</td>\n",
       "      <td>0</td>\n",
       "      <td>0</td>\n",
       "      <td>3</td>\n",
       "      <td>0</td>\n",
       "      <td>0</td>\n",
       "      <td>0</td>\n",
       "      <td>0</td>\n",
       "      <td>0</td>\n",
       "      <td>1</td>\n",
       "      <td>0</td>\n",
       "      <td>1</td>\n",
       "      <td>1</td>\n",
       "      <td>6</td>\n",
       "      <td>1</td>\n",
       "      <td>1</td>\n",
       "    </tr>\n",
       "    <tr>\n",
       "      <th>5191</th>\n",
       "      <td>censor.net.ua</td>\n",
       "      <td>0</td>\n",
       "      <td>0</td>\n",
       "      <td>1</td>\n",
       "      <td>3</td>\n",
       "      <td>0</td>\n",
       "      <td>0</td>\n",
       "      <td>0</td>\n",
       "      <td>0</td>\n",
       "      <td>0</td>\n",
       "      <td>0</td>\n",
       "      <td>0</td>\n",
       "      <td>1</td>\n",
       "      <td>0</td>\n",
       "      <td>17</td>\n",
       "      <td>1</td>\n",
       "      <td>0</td>\n",
       "    </tr>\n",
       "    <tr>\n",
       "      <th>5390</th>\n",
       "      <td>udn.com</td>\n",
       "      <td>0</td>\n",
       "      <td>0</td>\n",
       "      <td>1</td>\n",
       "      <td>4</td>\n",
       "      <td>0</td>\n",
       "      <td>0</td>\n",
       "      <td>0</td>\n",
       "      <td>0</td>\n",
       "      <td>0</td>\n",
       "      <td>1</td>\n",
       "      <td>0</td>\n",
       "      <td>1</td>\n",
       "      <td>0</td>\n",
       "      <td>7</td>\n",
       "      <td>0</td>\n",
       "      <td>0</td>\n",
       "    </tr>\n",
       "    <tr>\n",
       "      <th>860</th>\n",
       "      <td>seekingalpha.com</td>\n",
       "      <td>0</td>\n",
       "      <td>0</td>\n",
       "      <td>1</td>\n",
       "      <td>2</td>\n",
       "      <td>0</td>\n",
       "      <td>0</td>\n",
       "      <td>0</td>\n",
       "      <td>0</td>\n",
       "      <td>0</td>\n",
       "      <td>1</td>\n",
       "      <td>0</td>\n",
       "      <td>1</td>\n",
       "      <td>0</td>\n",
       "      <td>5</td>\n",
       "      <td>0</td>\n",
       "      <td>0</td>\n",
       "    </tr>\n",
       "    <tr>\n",
       "      <th>7270</th>\n",
       "      <td>adnet8.com</td>\n",
       "      <td>0</td>\n",
       "      <td>0</td>\n",
       "      <td>1</td>\n",
       "      <td>2</td>\n",
       "      <td>0</td>\n",
       "      <td>0</td>\n",
       "      <td>0</td>\n",
       "      <td>0</td>\n",
       "      <td>0</td>\n",
       "      <td>1</td>\n",
       "      <td>1</td>\n",
       "      <td>1</td>\n",
       "      <td>1</td>\n",
       "      <td>14</td>\n",
       "      <td>0</td>\n",
       "      <td>1</td>\n",
       "    </tr>\n",
       "  </tbody>\n",
       "</table>\n",
       "<p>12000 rows × 17 columns</p>\n",
       "</div>"
      ],
      "text/plain": [
       "                            domain  ip_present  at_present  url_length  \\\n",
       "1935               extratorrent.cc           0           0           1   \n",
       "6494                  78.143.96.35           0           0           1   \n",
       "1720                 superuser.com           0           0           1   \n",
       "9120                    heylink.me           0           0           0   \n",
       "360                  torrentdn.com           0           0           1   \n",
       "...                            ...         ...         ...         ...   \n",
       "11964  vmi330298.contaboserver.net           0           0           0   \n",
       "5191                 censor.net.ua           0           0           1   \n",
       "5390                       udn.com           0           0           1   \n",
       "860               seekingalpha.com           0           0           1   \n",
       "7270                    adnet8.com           0           0           1   \n",
       "\n",
       "       url_depth  redirection  https_domain  short_url  prefix/suffix  \\\n",
       "1935           3            0             0          0              0   \n",
       "6494           3            0             0          0              0   \n",
       "1720           3            0             0          0              0   \n",
       "9120           1            0             0          1              0   \n",
       "360            2            0             0          0              0   \n",
       "...          ...          ...           ...        ...            ...   \n",
       "11964          3            0             0          0              0   \n",
       "5191           3            0             0          0              0   \n",
       "5390           4            0             0          0              0   \n",
       "860            2            0             0          0              0   \n",
       "7270           2            0             0          0              0   \n",
       "\n",
       "       dns_record  web_traffic  domain_age  domain_end  dot_count  \\\n",
       "1935            0            0           0           1          0   \n",
       "6494            0            1           0           1          1   \n",
       "1720            0            1           0           1          0   \n",
       "9120            0            1           0           1          0   \n",
       "360             0            1           1           1          0   \n",
       "...           ...          ...         ...         ...        ...   \n",
       "11964           0            1           0           1          1   \n",
       "5191            0            0           0           1          0   \n",
       "5390            0            1           0           1          0   \n",
       "860             0            1           0           1          0   \n",
       "7270            0            1           1           1          1   \n",
       "\n",
       "       specialchar_count  subdom_count  label  \n",
       "1935                   6             0      0  \n",
       "6494                  19             1      1  \n",
       "1720                   6             0      0  \n",
       "9120                   4             0      1  \n",
       "360                   16             0      0  \n",
       "...                  ...           ...    ...  \n",
       "11964                  6             1      1  \n",
       "5191                  17             1      0  \n",
       "5390                   7             0      0  \n",
       "860                    5             0      0  \n",
       "7270                  14             0      1  \n",
       "\n",
       "[12000 rows x 17 columns]"
      ]
     },
     "execution_count": 13,
     "metadata": {},
     "output_type": "execute_result"
    }
   ],
   "source": [
    "# Shuffle\n",
    "# shuffle dataset **once**, but reliably so that each run yields the same results\n",
    "\n",
    "data = shuffle(dataset, random_state=42)\n",
    "\n",
    "data"
   ]
  },
  {
   "cell_type": "markdown",
   "metadata": {},
   "source": [
    "## Feature Selection\n",
    "\n",
    "#### Important: In all feature selection method, it is a good practice to select the features by examining only the training set to avoid overfitting"
   ]
  },
  {
   "cell_type": "code",
   "execution_count": 14,
   "metadata": {},
   "outputs": [
    {
     "data": {
      "text/plain": [
       "((7200, 15), (2400, 15), (2400, 15))"
      ]
     },
     "execution_count": 14,
     "metadata": {},
     "output_type": "execute_result"
    }
   ],
   "source": [
    "y = pd.DataFrame(data['label']) #y target\n",
    "X = data.drop(['domain', 'label'], axis=1) #X feature\n",
    "\n",
    "X_train, X_test, y_train, y_test = train_test_split(X, y, stratify = y, \n",
    "                                                    test_size=0.4, random_state=12345)\n",
    "\n",
    "X_test, X_val, y_test, y_val = train_test_split(X_test, y_test, test_size=0.5, random_state=113)\n",
    "\n",
    "\n",
    "X_train.shape, X_test.shape, X_val.shape"
   ]
  },
  {
   "cell_type": "code",
   "execution_count": 15,
   "metadata": {},
   "outputs": [
    {
     "name": "stdout",
     "output_type": "stream",
     "text": [
      "********************** Proportion on the give dataset before the split ********************** \n",
      "\n",
      "Percentage of Legitimate websites : 0.5\n",
      "Percentage of Phishing websites   : 0.5 \n",
      "\n",
      "********************** Proportion on the Training datase t**********************\n",
      "\n",
      "Percentage of Legitimate websites : 0.5\n",
      "Percentage of Phishing websites   : 0.5 \n",
      "\n",
      "********************** Proportion on the Testing dataset **********************\n",
      "\n",
      "Percentage of Legitimate websites : 0.49666666666666665\n",
      "Percentage of Phishing websites   : 0.5033333333333333 \n",
      "\n",
      "********************** Proportion on the Testing dataset **********************\n",
      "\n",
      "Percentage of Legitimate websites : 0.5033333333333333\n",
      "Percentage of Phishing websites   : 0.49666666666666665 \n",
      "\n"
     ]
    }
   ],
   "source": [
    "\n",
    "## Original dataset\n",
    "y_legw = y.label.value_counts()[0]/(y.label.count())\n",
    "y_phishw = y.label.value_counts()[1]/(y.label.count())\n",
    "\n",
    "print(\"********************** Proportion on the give dataset before the split ********************** \\n\")\n",
    "print(\"Percentage of Legitimate websites :\", y_legw)\n",
    "print(\"Percentage of Phishing websites   :\", y_phishw, \"\\n\")\n",
    "\n",
    "\n",
    "## Training dataset\n",
    "y_train_legw = y_train.label.value_counts()[0]/(y_train.label.count())\n",
    "y_train_phishw = y_train.label.value_counts()[1]/(y_train.label.count())\n",
    "\n",
    "print(\"********************** Proportion on the Training datase t**********************\\n\")\n",
    "print(\"Percentage of Legitimate websites :\", y_train_legw)\n",
    "print(\"Percentage of Phishing websites   :\", y_train_phishw, \"\\n\")\n",
    "\n",
    "\n",
    "## Testing dataset\n",
    "y_test_legw = y_test.label.value_counts()[0]/(y_test.label.count())\n",
    "y_test_phishw = y_test.label.value_counts()[1]/(y_test.label.count())\n",
    "\n",
    "print(\"********************** Proportion on the Testing dataset **********************\\n\")\n",
    "print(\"Percentage of Legitimate websites :\", y_test_legw)\n",
    "print(\"Percentage of Phishing websites   :\", y_test_phishw, \"\\n\")\n",
    "\n",
    "\n",
    "## Validation dataset\n",
    "y_val_legw = y_val.label.value_counts()[0]/(y_val.label.count())\n",
    "y_val_phishw = y_val.label.value_counts()[1]/(y_val.label.count())\n",
    "\n",
    "print(\"********************** Proportion on the Testing dataset **********************\\n\")\n",
    "print(\"Percentage of Legitimate websites :\", y_val_legw)\n",
    "print(\"Percentage of Phishing websites   :\", y_val_phishw, \"\\n\")\n",
    "\n"
   ]
  },
  {
   "cell_type": "code",
   "execution_count": 16,
   "metadata": {},
   "outputs": [
    {
     "name": "stdout",
     "output_type": "stream",
     "text": [
      "Dimensions of the original dataset : 12000 rows and 15 columns\n",
      "\n",
      "Dimensions of the training dataset : 7200 rows and 15 columns\n",
      "\n",
      "Dimensions of the testing dataset : 2400 rows and 15 columns\n",
      "\n",
      "Dimensions of the validation dataset : 2400 rows and 15 columns\n",
      "\n"
     ]
    }
   ],
   "source": [
    "\n",
    "## Displaying the dimensions present in the dataset\n",
    "\n",
    "print(\"Dimensions of the original dataset :\",X.shape[0], \"rows and\",X.shape[1],\"columns\\n\")\n",
    "\n",
    "print(\"Dimensions of the training dataset :\",X_train.shape[0], \"rows and\",X_train.shape[1],\"columns\\n\")\n",
    "\n",
    "print(\"Dimensions of the testing dataset :\",X_test.shape[0], \"rows and\",X_test.shape[1],\"columns\\n\")\n",
    "\n",
    "print(\"Dimensions of the validation dataset :\",X_val.shape[0], \"rows and\",X_val.shape[1],\"columns\\n\")\n"
   ]
  },
  {
   "cell_type": "code",
   "execution_count": 17,
   "metadata": {},
   "outputs": [],
   "source": [
    "# Converting target variables from dataframe to an array\n",
    "\n",
    "y_train = np.ravel(y_train)\n",
    "y_test = np.ravel(y_test)\n",
    "y_val = np.ravel(y_val)\n"
   ]
  },
  {
   "cell_type": "code",
   "execution_count": 18,
   "metadata": {},
   "outputs": [
    {
     "data": {
      "text/plain": [
       "(array([1, 1, 1, ..., 0, 0, 0]),\n",
       " array([1, 1, 0, ..., 0, 1, 0]),\n",
       " array([0, 0, 1, ..., 1, 1, 1]))"
      ]
     },
     "execution_count": 18,
     "metadata": {},
     "output_type": "execute_result"
    }
   ],
   "source": [
    "y_train, y_test, y_val"
   ]
  },
  {
   "cell_type": "markdown",
   "metadata": {},
   "source": [
    "## Feature Selection"
   ]
  },
  {
   "cell_type": "code",
   "execution_count": 45,
   "metadata": {},
   "outputs": [
    {
     "data": {
      "text/plain": [
       "(array([           nan, 1.10720930e+02, 7.17262077e+02, 1.10204202e+03,\n",
       "        4.86486486e-01,            nan, 6.68809524e+01, 1.02844535e+03,\n",
       "        3.38102857e+02, 2.89845547e-01, 3.45581638e+01, 3.03214169e+01,\n",
       "        4.88391153e+02, 5.67211392e+02, 9.60596107e+02]),\n",
       " array([            nan, 6.81150553e-026, 5.27250147e-158, 1.18867543e-241,\n",
       "        4.85498803e-001,             nan, 2.88408145e-016, 1.17857833e-225,\n",
       "        1.65210602e-075, 5.90319524e-001, 4.13702827e-009, 3.66061627e-008,\n",
       "        3.19065736e-108, 2.26942813e-125, 6.59818359e-211]))"
      ]
     },
     "execution_count": 45,
     "metadata": {},
     "output_type": "execute_result"
    }
   ],
   "source": [
    "# Define feature selection\n",
    "from sklearn.feature_selection import f_classif,SelectKBest, chi2\n",
    "\n",
    "f_score = chi2(X_train.fillna(0), y_train)\n",
    "f_score"
   ]
  },
  {
   "cell_type": "code",
   "execution_count": 47,
   "metadata": {},
   "outputs": [
    {
     "data": {
      "text/plain": [
       "url_depth            1.188675e-241\n",
       "prefix/suffix        1.178578e-225\n",
       "subdom_count         6.598184e-211\n",
       "url_length           5.272501e-158\n",
       "specialchar_count    2.269428e-125\n",
       "dot_count            3.190657e-108\n",
       "dns_record            1.652106e-75\n",
       "at_present            6.811506e-26\n",
       "short_url             2.884081e-16\n",
       "domain_age            4.137028e-09\n",
       "domain_end            3.660616e-08\n",
       "redirection           4.854988e-01\n",
       "web_traffic           5.903195e-01\n",
       "ip_present                     NaN\n",
       "https_domain                   NaN\n",
       "dtype: float64"
      ]
     },
     "execution_count": 47,
     "metadata": {},
     "output_type": "execute_result"
    }
   ],
   "source": [
    "\n",
    "pvalues = pd.Series(f_score[1])\n",
    "pvalues.index = X_train.columns\n",
    "pvalues.sort_values(ascending=True)"
   ]
  },
  {
   "cell_type": "code",
   "execution_count": 48,
   "metadata": {},
   "outputs": [],
   "source": [
    "sel_ = SelectKBest(chi2, k=12).fit(X_train, y_train)"
   ]
  },
  {
   "cell_type": "code",
   "execution_count": 49,
   "metadata": {},
   "outputs": [
    {
     "data": {
      "text/plain": [
       "Index(['at_present', 'url_length', 'url_depth', 'redirection', 'short_url',\n",
       "       'prefix/suffix', 'dns_record', 'domain_age', 'domain_end', 'dot_count',\n",
       "       'specialchar_count', 'subdom_count'],\n",
       "      dtype='object')"
      ]
     },
     "execution_count": 49,
     "metadata": {},
     "output_type": "execute_result"
    }
   ],
   "source": [
    "X_train.columns[sel_.get_support()]"
   ]
  },
  {
   "cell_type": "code",
   "execution_count": 52,
   "metadata": {},
   "outputs": [],
   "source": [
    "\n",
    "#Transform to dataframe to remove the remaining features\n",
    "\n",
    "scaler = StandardScaler()\n",
    "\n",
    "X_train = scaler.fit_transform(X_train)\n",
    "X_test = scaler.transform(X_test) \n",
    "X_val = scaler.transform(X_val\n",
    "                        )\n"
   ]
  },
  {
   "cell_type": "code",
   "execution_count": 54,
   "metadata": {},
   "outputs": [
    {
     "data": {
      "text/plain": [
       "(7200, 15)"
      ]
     },
     "execution_count": 54,
     "metadata": {},
     "output_type": "execute_result"
    }
   ],
   "source": [
    "X_train.shape"
   ]
  },
  {
   "cell_type": "code",
   "execution_count": 42,
   "metadata": {},
   "outputs": [
    {
     "name": "stdout",
     "output_type": "stream",
     "text": [
      "       Input_Features        Score  P_Value\n",
      "2          url_length  6981.165885   0.0000\n",
      "14       subdom_count  2833.733646   0.0000\n",
      "7       prefix/suffix  2517.624629   0.0000\n",
      "3           url_depth  1303.478753   0.0000\n",
      "12          dot_count  1179.012616   0.0000\n",
      "8          dns_record   614.652027   0.0000\n",
      "11         domain_end   348.412602   0.0000\n",
      "13  specialchar_count   274.333613   0.0000\n",
      "1          at_present   188.569556   0.0000\n",
      "10         domain_age   134.637631   0.0000\n",
      "6           short_url    99.279618   0.0000\n",
      "4         redirection     1.705776   0.1916\n",
      "9         web_traffic     0.000000   1.0000\n"
     ]
    }
   ],
   "source": [
    "features_score = pd.DataFrame(fs.scores_)\n",
    "features_pvalue = pd.DataFrame(np.round(fs.pvalues_,4))\n",
    "features = pd.DataFrame(X.columns)\n",
    "feature_score = pd.concat([features,features_score,features_pvalue],axis=1)\n",
    "# Assign the column name\n",
    "feature_score.columns = [\"Input_Features\",\"Score\",\"P_Value\"]\n",
    "print(feature_score.nlargest(13,columns=\"Score\"))"
   ]
  },
  {
   "cell_type": "code",
   "execution_count": null,
   "metadata": {},
   "outputs": [],
   "source": [
    "# features to keep to feed the model\n",
    "\n",
    "X_train_sel"
   ]
  },
  {
   "cell_type": "code",
   "execution_count": 30,
   "metadata": {},
   "outputs": [],
   "source": [
    "features_to_keep = [not index for index in duplicated_features]\n",
    "\n",
    "X_train_unique = X_train_T[features_to_keep].T\n",
    "X_test_unique = X_test_T[features_to_keep].T\n"
   ]
  },
  {
   "cell_type": "code",
   "execution_count": 31,
   "metadata": {},
   "outputs": [
    {
     "data": {
      "text/plain": [
       "((7200, 12), (7200, 15))"
      ]
     },
     "execution_count": 31,
     "metadata": {},
     "output_type": "execute_result"
    }
   ],
   "source": [
    "X_train_unique.shape, X_train.shape"
   ]
  },
  {
   "cell_type": "code",
   "execution_count": 32,
   "metadata": {},
   "outputs": [
    {
     "data": {
      "text/plain": [
       "(array([1.15214270e+02, 4.21547527e+03, 7.44968973e+02, 7.45086249e+01,\n",
       "        1.46167830e+03, 3.73725861e+02, 1.87329552e+00, 7.46672688e+01,\n",
       "        2.03655799e+02, 7.03987762e+02, 1.97067872e+02, 1.65241477e+03]),\n",
       " array([1.12353375e-026, 0.00000000e+000, 3.57886965e-156, 7.34915093e-018,\n",
       "        2.48851027e-291, 3.22498137e-081, 1.71140828e-001, 6.78728192e-018,\n",
       "        1.38736775e-045, 4.46762936e-148, 3.47438106e-044, 0.00000000e+000]))"
      ]
     },
     "execution_count": 32,
     "metadata": {},
     "output_type": "execute_result"
    }
   ],
   "source": [
    "# F Test\n",
    "\n",
    "sel = f_classif(X_train_unique, y_train)\n",
    "sel"
   ]
  },
  {
   "cell_type": "code",
   "execution_count": 33,
   "metadata": {},
   "outputs": [],
   "source": [
    "p_values = pd.Series(sel[1])\n",
    "p_values.index = X_train_unique.columns\n",
    "p_values.sort_values(ascending = True, inplace = True)"
   ]
  },
  {
   "cell_type": "code",
   "execution_count": 34,
   "metadata": {},
   "outputs": [
    {
     "data": {
      "text/plain": [
       "<AxesSubplot:>"
      ]
     },
     "execution_count": 34,
     "metadata": {},
     "output_type": "execute_result"
    },
    {
     "data": {
      "image/png": "[encoded data removed]",
      "text/plain": [
       "<Figure size 1152x360 with 1 Axes>"
      ]
     },
     "metadata": {
      "needs_background": "light"
     },
     "output_type": "display_data"
    }
   ],
   "source": [
    "p_values.plot.bar(figsize = (16, 5))\n"
   ]
  },
  {
   "cell_type": "code",
   "execution_count": null,
   "metadata": {},
   "outputs": [],
   "source": []
  },
  {
   "cell_type": "code",
   "execution_count": null,
   "metadata": {},
   "outputs": [],
   "source": []
  },
  {
   "cell_type": "code",
   "execution_count": null,
   "metadata": {},
   "outputs": [],
   "source": [
    "X_val_sel"
   ]
  },
  {
   "cell_type": "code",
   "execution_count": null,
   "metadata": {},
   "outputs": [],
   "source": [
    "#train_data - X_train\n",
    "#test_data - X_test\n",
    "#train_target - y_train\n",
    "#test_target - y_test\n",
    "\n",
    "## Normalize data using StandardScaler\n",
    "\n",
    "scaler = StandardScaler()\n",
    "X_train = scaler.fit_transform(X_train)\n",
    "X_test = scaler.transform(X_test)\n",
    "X_val = scaler.transform(X_val)\n",
    "\n",
    "## Selected features\n",
    "X_train_sel = scaler.fit_transform(X_train_sel)\n",
    "X_test_sel = scaler.transform(X_test_sel) \n",
    "X_val_sel = scaler.transform(X_val_sel)\n",
    "\n"
   ]
  },
  {
   "cell_type": "code",
   "execution_count": null,
   "metadata": {},
   "outputs": [],
   "source": [
    "X_train_sel"
   ]
  },
  {
   "cell_type": "code",
   "execution_count": null,
   "metadata": {},
   "outputs": [],
   "source": [
    "type(X_train_sel)"
   ]
  },
  {
   "cell_type": "code",
   "execution_count": null,
   "metadata": {},
   "outputs": [],
   "source": [
    "X_test_sel"
   ]
  },
  {
   "cell_type": "code",
   "execution_count": null,
   "metadata": {},
   "outputs": [],
   "source": [
    "type(X_test_sel)"
   ]
  },
  {
   "cell_type": "code",
   "execution_count": null,
   "metadata": {},
   "outputs": [],
   "source": [
    "X_val_sel"
   ]
  },
  {
   "cell_type": "code",
   "execution_count": null,
   "metadata": {},
   "outputs": [],
   "source": [
    "type(X_val_sel)"
   ]
  },
  {
   "cell_type": "code",
   "execution_count": null,
   "metadata": {},
   "outputs": [],
   "source": [
    "\n",
    "print(X_train.shape)\n",
    "print(X_train_sel.shape)\n"
   ]
  },
  {
   "cell_type": "code",
   "execution_count": null,
   "metadata": {},
   "outputs": [],
   "source": [
    "\n",
    "print(X_test.shape)\n",
    "print(X_test_sel.shape)\n"
   ]
  },
  {
   "cell_type": "code",
   "execution_count": null,
   "metadata": {},
   "outputs": [],
   "source": [
    "\n",
    "print(X_val.shape)\n",
    "print(X_val_sel.shape)\n"
   ]
  },
  {
   "cell_type": "code",
   "execution_count": null,
   "metadata": {},
   "outputs": [],
   "source": [
    "# Reshaping data as expected by Sequential model\n",
    "# convert to 3 dim array\n",
    "\n",
    "X_train = X_train.reshape(X_train.shape[0], X_train.shape[1],1)\n",
    "X_test = X_test.reshape(X_test.shape[0], X_test.shape[1],1)\n",
    "\n",
    "X_train_sel = X_train_sel.reshape(X_train_sel.shape[0], X_train_sel.shape[1],1)\n",
    "X_test_sel = X_test_sel.reshape(X_test_sel.shape[0], X_test_sel.shape[1],1)\n",
    "\n",
    "X_val = X_val.reshape(X_val.shape[0], X_val.shape[1],1)\n",
    "X_val_sel = X_val_sel.reshape(X_val_sel.shape[0], X_val_sel.shape[1],1)\n",
    "\n",
    "print(\"3 dim array\")\n",
    "\n",
    "print(\"X_train:\", X_train.shape)\n",
    "print(\"X_test:\", X_test.shape)\n",
    "print(\"X_val:\", X_val.shape)\n",
    "\n",
    "print('')\n",
    "\n",
    "print(\"after FS X_train:\", X_train_sel.shape)\n",
    "print(\"after FS X_test:\", X_test_sel.shape)\n",
    "print(\"after FS X_val:\", X_val_sel.shape)\n",
    "\n"
   ]
  },
  {
   "cell_type": "markdown",
   "metadata": {},
   "source": [
    "## Build CNN Model\n"
   ]
  },
  {
   "cell_type": "code",
   "execution_count": null,
   "metadata": {},
   "outputs": [],
   "source": [
    "tf.random.set_random_seed(29)\n",
    "\n",
    "# Model configuration\n",
    "\n",
    "optimizer = Adam(learning_rate=0.001)\n",
    "verbosity = 2\n",
    "l1 = regularizers.l1(0.001)\n",
    "\n",
    "INPUT_DIM = X_train_sel[0].shape\n",
    "                                # Define the model architecture\n",
    "#--Layer Name\n",
    "proposed = Sequential(name=\"Proposed_Model\")\n",
    "    \n",
    "#--Input Layer\n",
    "proposed.add(Conv1D(20, 3, activation='relu', input_shape = INPUT_DIM))\n",
    "                    #kernel_regularizer=l1))\n",
    "proposed.add(BatchNormalization())\n",
    "proposed.add(Dropout(0.2))\n",
    "\n",
    "#--Convo Layer 1\n",
    "proposed.add(Conv1D(20, 3, activation='relu', padding='same', name=\"CONV_1\"))\n",
    "proposed.add(MaxPooling1D(2, name=\"POOLING_1\"))\n",
    "\n",
    "#--Convo Layer 2\n",
    "proposed.add(Conv1D(40, 3, activation='relu', padding='same', name=\"CONV_2\", kernel_regularizer=l1))\n",
    "#--Convo Layer 3\n",
    "proposed.add(Conv1D(40, 3, activation='relu', padding='same', name=\"CONV_3\"))\n",
    "#--Convo Layer 4\n",
    "proposed.add(Conv1D(40, 5, activation='relu', padding='same', name=\"CONV_4\"))\n",
    "proposed.add(MaxPooling1D(2, name=\"POOLING_2\", padding='same'))\n",
    "\n",
    "\n",
    "#--Convo Layer 5\n",
    "proposed.add(Conv1D(80, 3, activation='relu', padding='same', name=\"CONV_5\", kernel_regularizer=l1))\n",
    "#--Convo Layer 6\n",
    "proposed.add(Conv1D(80, 3, activation='relu', padding='same', name=\"CONV_6\"))\n",
    "#--Convo Layer 7\n",
    "proposed.add(Conv1D(160, 3, activation='relu', padding='same', name=\"CONV_7\"))\n",
    "proposed.add(MaxPooling1D(2, name=\"POOLING_3\", padding='same'))\n",
    "proposed.add(Dropout(0.4, name=\"DROPOUT_1\"))\n",
    "\n",
    "    \n",
    "##-----Fully Connected Layer\n",
    "proposed.add(Flatten(name=\"FC\"))\n",
    "proposed.add(Dropout(0.4))\n",
    "\n",
    "##--First Fully Connected Layer 5\n",
    "proposed.add(Dense(128, activation='relu', name='DENSE_1', kernel_regularizer=l1))\n",
    "\n",
    "proposed.add(Dense(64, activation='relu', name='DENSE_2'))\n",
    "proposed.add(Dropout(0.5, name=\"DROPOUT_2\"))\n",
    "    \n",
    "##--Fully Connected Output Layer\n",
    "proposed.add(Dense(2, activation='softmax', name=\"OUTPUT\"))\n",
    "\n",
    "# Compile the model\n",
    "proposed.compile(loss='sparse_categorical_crossentropy',\n",
    "              optimizer=optimizer, metrics=['accuracy'])\n"
   ]
  },
  {
   "cell_type": "code",
   "execution_count": null,
   "metadata": {},
   "outputs": [],
   "source": [
    "\n",
    "##--Print model summary\n",
    "\n",
    "proposed.summary()\n"
   ]
  },
  {
   "cell_type": "code",
   "execution_count": null,
   "metadata": {},
   "outputs": [],
   "source": [
    "\n",
    "\n",
    "## Specify training parameters\n",
    "BATCH_SIZE = 256\n",
    "EPOCH = 60\n",
    "\n",
    "\n",
    "## Train the Model\n",
    "print('Training model... \\n')\n",
    "\n",
    "history = proposed.fit(X_train_sel, y_train, validation_data=(X_test_sel, y_test), \n",
    "                  batch_size=BATCH_SIZE, epochs=EPOCH, verbose=2)\n",
    "\n",
    "## Score metrics from the model\n",
    "print('')\n",
    "score = proposed.evaluate(X_test_sel, y_test, verbose=2)\n",
    "\n",
    "## Displays the accuracy of correct sentiment prediction over test data\n",
    "print('')\n",
    "print(\"Test loss: %.2f%%\" % score[0])\n",
    "print(\"Test accuracy: %.2f%%\" % (score[1]*100))\n",
    "\n"
   ]
  },
  {
   "cell_type": "code",
   "execution_count": null,
   "metadata": {},
   "outputs": [],
   "source": [
    "acc_train_cnn = (proposed.evaluate(X_train_sel, y_train)[1]*100)\n",
    "acc_test_cnn = (proposed.evaluate(X_test_sel, y_test)[1]*100)\n",
    "acc_val_cnn = (proposed.evaluate(X_val_sel, y_val)[1]*100)\n",
    "\n",
    "print('')\n",
    "print(\"CNN: Accuracy on training Data: %.2f%%\" % (acc_train_cnn))\n",
    "print(\"CNN: Accuracy on TEST Data: %.2f%%\" % (acc_test_cnn))\n",
    "print(\"CNN: Accuracy on validation Data: %.2f%%\" % (acc_val_cnn))\n"
   ]
  },
  {
   "cell_type": "code",
   "execution_count": null,
   "metadata": {},
   "outputs": [],
   "source": []
  },
  {
   "cell_type": "code",
   "execution_count": null,
   "metadata": {},
   "outputs": [],
   "source": []
  },
  {
   "cell_type": "code",
   "execution_count": null,
   "metadata": {},
   "outputs": [],
   "source": []
  },
  {
   "cell_type": "code",
   "execution_count": null,
   "metadata": {},
   "outputs": [],
   "source": [
    "## As shown in docu\n",
    "\n",
    "## Plot training & test loss values\n",
    "## Computing Loss Result on Training And Test Results\n",
    "\n",
    "plt.figure(figsize=(8,6))\n",
    "plt.plot(history.history['loss'])\n",
    "plt.plot(history.history['val_loss'])\n",
    "plt.title('CNN Model Training and Test loss', fontsize=16)\n",
    "plt.ylabel('Loss', fontsize=13)\n",
    "plt.xlabel('Epoch', fontsize=13)\n",
    "plt.legend(['Train', 'Test'], loc='upper left')\n",
    "plt.show()\n",
    "# save image to disk\n",
    "plt.savefig('/Users/jillkathleen/Desktop/Phishing-Analysis-Detection/Back-End/Model-ntbk/Graph-Visuals/D2-loss.png')\n",
    "\n",
    "\n",
    "\n",
    "## Plot training & test accuracy values\n",
    "## Computing Accuracy on Training And Test Results\n",
    "\n",
    "plt.figure(figsize=(8,6))\n",
    "plt.plot(history.history['acc'])\n",
    "plt.plot(history.history['val_acc'])\n",
    "plt.title('CNN Model Training and Test Accuracy', fontsize=16)\n",
    "plt.ylabel('Loss', fontsize=13)\n",
    "plt.xlabel('Epoch', fontsize=13)\n",
    "plt.legend(['Train', 'Test'], loc='upper left')\n",
    "plt.show()\n",
    "plt.savefig('/Users/jillkathleen/Desktop/Phishing-Analysis-Detection/Back-End/Model-ntbk/Graph-Visuals/test-acc-docu.png')\n",
    "\n"
   ]
  },
  {
   "cell_type": "code",
   "execution_count": null,
   "metadata": {},
   "outputs": [],
   "source": []
  },
  {
   "cell_type": "code",
   "execution_count": null,
   "metadata": {},
   "outputs": [],
   "source": [
    "\n",
    "from keras.utils import plot_model\n",
    "plot_model(proposed)\n"
   ]
  },
  {
   "cell_type": "code",
   "execution_count": null,
   "metadata": {},
   "outputs": [],
   "source": []
  },
  {
   "cell_type": "code",
   "execution_count": null,
   "metadata": {},
   "outputs": [],
   "source": []
  },
  {
   "cell_type": "code",
   "execution_count": null,
   "metadata": {},
   "outputs": [],
   "source": []
  },
  {
   "cell_type": "code",
   "execution_count": null,
   "metadata": {},
   "outputs": [],
   "source": []
  },
  {
   "cell_type": "code",
   "execution_count": null,
   "metadata": {},
   "outputs": [],
   "source": []
  },
  {
   "cell_type": "code",
   "execution_count": null,
   "metadata": {},
   "outputs": [],
   "source": []
  },
  {
   "cell_type": "code",
   "execution_count": null,
   "metadata": {},
   "outputs": [],
   "source": []
  },
  {
   "cell_type": "code",
   "execution_count": null,
   "metadata": {},
   "outputs": [],
   "source": []
  },
  {
   "cell_type": "code",
   "execution_count": null,
   "metadata": {},
   "outputs": [],
   "source": []
  },
  {
   "cell_type": "code",
   "execution_count": null,
   "metadata": {},
   "outputs": [],
   "source": []
  },
  {
   "cell_type": "code",
   "execution_count": null,
   "metadata": {},
   "outputs": [],
   "source": []
  },
  {
   "cell_type": "code",
   "execution_count": null,
   "metadata": {},
   "outputs": [],
   "source": []
  },
  {
   "cell_type": "code",
   "execution_count": null,
   "metadata": {},
   "outputs": [],
   "source": []
  },
  {
   "cell_type": "code",
   "execution_count": null,
   "metadata": {},
   "outputs": [],
   "source": [
    "\n",
    "tf.random.set_random_seed(SEED)\n",
    "\n",
    "from tensorflow.keras import regularizers\n",
    "\n",
    "## Specify optimizer\n",
    "ADAM = Adam(lr=0.001)\n",
    "\n",
    "## Loss Function\n",
    "SPARSE = \"sparse_categorical_crossentropy\"\n",
    "\n",
    "## Metrics\n",
    "ACC = [\"accuracy\"]\n",
    "\n",
    "## Hyperparameters\n",
    "l1 = tf.keras.regularizers.l1(l1=0.001)\n",
    "\n",
    "## INPUT dimensions\n",
    "INPUT_DIM = X_train_sel[1].shape \n",
    "\n",
    "\n",
    "                            ### CNN Model Architecture ###\n",
    "\n",
    "cnn = Sequential(name = \"Proposed Model: Phishing Detection\")\n",
    "\n",
    "##---Input Layer\n",
    "cnn.add(Conv1D(8, 5, activation = 'relu', input_shape = INPUT_DIM))\n",
    "cnn.add(BatchNormalization())\n",
    "\n",
    "##---First Hidden Layer:\n",
    "cnn.add(Conv1D(16, 5, activation = 'relu'))\n",
    "cnn.add(BatchNormalization())\n",
    "#cnn.add(MaxPooling1D())\n",
    "cnn.add(Dropout(0.2))\n",
    "\n",
    "cnn.add(Conv1D(16, 5, activation = 'relu', padding='same'))\n",
    "cnn.add(BatchNormalization())\n",
    "cnn.add(Dropout(0.3))\n",
    "\n",
    "cnn.add(Conv1D(32, 5, activation='relu', kernel_regularizer=l1, padding = 'same'))\n",
    "cnn.add(BatchNormalization())\n",
    "#cnn.add(MaxPooling1D(2))\n",
    "cnn.add(Dropout(0.3))\n",
    "        \n",
    "#cnn.add(Conv1D(32, 3, activation = 'relu', padding='same', kernel_regularizer=l1))\n",
    "#cnn.add(Dropout(0.3))\n",
    "\n",
    "\n",
    "cnn.add(Conv1D(64, 2, activation='relu', padding='same'))\n",
    "cnn.add(GlobalMaxPooling1D())\n",
    "cnn.add(Dropout(0.5))\n",
    "\n",
    "\n",
    "#cnn.add(Conv1D(64, 3, activation = \"relu\", padding = 'same'))\n",
    "#cnn.add(Conv1D(64, 5, activation = \"relu\", padding = \"same\"))\n",
    "#cnn.add(MaxPooling1D())\n",
    "#cnn.add(Dropout(0.2))\n",
    "\n",
    "#cnn.add(Conv1D(64, 5, activation = \"relu\", padding = \"same\"))\n",
    "#cnn.add(MaxPooling1D(padding = 'same'))\n",
    "#cnn.add(Dropout(0.2))\n",
    "\n",
    "\n",
    "##--Flattening Layer\n",
    "cnn.add(Flatten())\n",
    "\n",
    "cnn.add(Dense(128, activation = \"relu\", activity_regularizer = l1))\n",
    "cnn.add(Dropout(0.4))\n",
    "\n",
    "##--Fully Connected Layer\n",
    "cnn.add(Dense(128, activation = \"relu\"))\n",
    "cnn.add(Dropout(0.5))\n",
    "\n",
    "##--Output Layer\n",
    "cnn.add(Dense(2, activation = \"softmax\"))\n",
    "\n",
    "\n",
    "##--Compiling the model\n",
    "cnn.compile(optimizer = ADAM, loss = SPARSE, metrics = ACC)\n"
   ]
  },
  {
   "cell_type": "code",
   "execution_count": null,
   "metadata": {},
   "outputs": [],
   "source": [
    "\n",
    "##--Print model summary\n",
    "\n",
    "proposed.summary()\n"
   ]
  },
  {
   "cell_type": "code",
   "execution_count": null,
   "metadata": {},
   "outputs": [],
   "source": [
    "from keras.utils import plot_model\n",
    "plot_model(proposed)"
   ]
  },
  {
   "cell_type": "code",
   "execution_count": null,
   "metadata": {},
   "outputs": [],
   "source": [
    "\n",
    "\n",
    "## Specify training parameters\n",
    "BATCH_SIZE = 128\n",
    "EPOCH = 60\n",
    "\n",
    "\n",
    "## Train the Model\n",
    "print('Training model... \\n')\n",
    "\n",
    "history = proposed.fit(X_train_sel, y_train, validation_data=(X_test_sel, y_test), \n",
    "                  batch_size=BATCH_SIZE, epochs=EPOCH, verbose=2)\n",
    "\n",
    "## Score metrics from the model\n",
    "print('')\n",
    "score = cnn.evaluate(X_test_sel, y_test, verbose=2)\n",
    "\n",
    "## Displays the accuracy of correct sentiment prediction over test data\n",
    "print('')\n",
    "print(\"Test loss: %.2f%%\" % score[0])\n",
    "print(\"Test accuracy: %.2f%%\" % (score[1]*100))\n",
    "\n"
   ]
  },
  {
   "cell_type": "code",
   "execution_count": null,
   "metadata": {},
   "outputs": [],
   "source": [
    "acc_train_cnn = (proposed.evaluate(X_train_sel, y_train)[1]*100)\n",
    "acc_test_cnn = (proposed.evaluate(X_test_sel, y_test)[1]*100)\n",
    "acc_val_cnn = (proposed.evaluate(X_val_sel, y_val)[1]*100)\n",
    "\n",
    "print('')\n",
    "print(\"CNN: Accuracy on training Data: %.2f%%\" % (acc_train_cnn))\n",
    "print(\"CNN: Accuracy on TEST Data: %.2f%%\" % (acc_test_cnn))\n",
    "print(\"CNN: Accuracy on validation Data: %.2f%%\" % (acc_val_cnn))\n"
   ]
  },
  {
   "cell_type": "code",
   "execution_count": null,
   "metadata": {},
   "outputs": [],
   "source": []
  },
  {
   "cell_type": "code",
   "execution_count": null,
   "metadata": {},
   "outputs": [],
   "source": []
  },
  {
   "cell_type": "code",
   "execution_count": null,
   "metadata": {},
   "outputs": [],
   "source": []
  },
  {
   "cell_type": "code",
   "execution_count": null,
   "metadata": {},
   "outputs": [],
   "source": []
  },
  {
   "cell_type": "code",
   "execution_count": null,
   "metadata": {},
   "outputs": [],
   "source": []
  },
  {
   "cell_type": "code",
   "execution_count": null,
   "metadata": {},
   "outputs": [],
   "source": []
  },
  {
   "cell_type": "code",
   "execution_count": null,
   "metadata": {},
   "outputs": [],
   "source": [
    "from keras import regularizers\n",
    "\n",
    "tf.random.set_random_seed(SEED)\n",
    "\n",
    "#Hyperparameters\n",
    "BATCH_SIZE = \n",
    "EPOCH = \n",
    "\n",
    "#INPUT dimensions\n",
    "INPUT_DIM = X_train_sel[0].shape \n",
    "\n",
    "model = Sequential()\n",
    "\n",
    "model.add(Conv1D(filters = 8, kernel_size = 3,activation ='relu', input_shape = INPUT_DIM ))\n",
    "model.add(BatchNormalization())\n",
    "\n",
    "model.add(Conv1D(filters = 32, kernel_size = 3, activation ='relu'))\n",
    "model.add(Dropout(0.2))\n",
    "\n",
    "model.add(Conv1D(filters = 32, kernel_size = 3,activation ='relu',padding='same'))\n",
    "model.add(Conv1D(filters = 32, kernel_size = 3, activation ='relu'))\n",
    "model.add(Dropout(0.2))\n",
    "\n",
    "model.add(Conv1D(filters = 64, kernel_size = 3, activation ='relu'))\n",
    "model.add(Conv1D(filters = 64, kernel_size = 3, activation ='relu', padding='same'))\n",
    "#model.add(Dropout(0.2))\n",
    "\n",
    "##--Flatten \n",
    "model.add(Flatten())\n",
    "model.add(Dropout(0.5))\n",
    "\n",
    "##--Fully Connected Layer\n",
    "model.add(Dense(64, activation = \"relu\"))\n",
    "model.add(Dropout(0.5))\n",
    "\n",
    "##--Fully Connected Output Layer\n",
    "model.add(Dense(2, activation = \"softmax\"))\n",
    "\n",
    "\n",
    "# Define the optimizer\n",
    "ADAM = Adam(learning_rate=0.01)\n",
    "\n",
    "# Compile the model\n",
    "model.compile(optimizer = ADAM, loss = \"sparse_categorical_crossentropy\", metrics=[\"accuracy\"])\n",
    "\n",
    "\n",
    "model.summary()"
   ]
  },
  {
   "cell_type": "code",
   "execution_count": null,
   "metadata": {},
   "outputs": [],
   "source": [
    "history = model.fit(X_train_sel, y_train, epochs = 20, validation_split=0.1, verbose=1)\n",
    "\n",
    "\n",
    "\n",
    "# Train the Model\n",
    "\n",
    "print('Training model... \\n')\n",
    "\n",
    "history = model.fit(X_train_sel, y_train, validation_split=0.1, \n",
    "                    batch_size=128, epochs=no_epochs, verbose=2)\n",
    "\n",
    "# Score metrics from the model\n",
    "print('')\n",
    "score = proposed.evaluate(X_test, y_test, verbose=2)\n",
    "\n",
    "# Displays the accuracy of correct sentiment prediction over test data\n",
    "print('')\n",
    "print(\"Test loss: %.2f%%\" % score[0])\n",
    "print(\"Test accuracy: %.2f%%\" % (score[1]*100))\n"
   ]
  },
  {
   "cell_type": "code",
   "execution_count": null,
   "metadata": {},
   "outputs": [],
   "source": [
    "acc_train_cnn = (model.evaluate(X_train_sel, y_train)[1]*100)\n",
    "acc_test_cnn = (model.evaluate(X_test_sel, y_test)[1]*100)\n",
    "#acc_val_cnn = (cnn.evaluate(X_val, y_val)[1]*100)\n",
    "\n",
    "print('')\n",
    "print(\"CNN: Accuracy on training Data: %.2f%%\" % (acc_train_cnn))\n",
    "print(\"CNN: Accuracy on test Data: %.2f%%\" % (acc_test_cnn))\n",
    "#print(\"CNN: Accuracy on validation Data: %.2f%%\" % (acc_val_cnn))\n"
   ]
  },
  {
   "cell_type": "code",
   "execution_count": null,
   "metadata": {},
   "outputs": [],
   "source": []
  },
  {
   "cell_type": "code",
   "execution_count": null,
   "metadata": {},
   "outputs": [],
   "source": []
  },
  {
   "cell_type": "code",
   "execution_count": null,
   "metadata": {},
   "outputs": [],
   "source": []
  },
  {
   "cell_type": "code",
   "execution_count": null,
   "metadata": {},
   "outputs": [],
   "source": []
  },
  {
   "cell_type": "code",
   "execution_count": null,
   "metadata": {},
   "outputs": [],
   "source": []
  },
  {
   "cell_type": "code",
   "execution_count": null,
   "metadata": {},
   "outputs": [],
   "source": []
  },
  {
   "cell_type": "code",
   "execution_count": null,
   "metadata": {},
   "outputs": [],
   "source": []
  },
  {
   "cell_type": "code",
   "execution_count": null,
   "metadata": {},
   "outputs": [],
   "source": []
  },
  {
   "cell_type": "code",
   "execution_count": null,
   "metadata": {},
   "outputs": [],
   "source": []
  },
  {
   "cell_type": "code",
   "execution_count": null,
   "metadata": {},
   "outputs": [],
   "source": []
  },
  {
   "cell_type": "code",
   "execution_count": null,
   "metadata": {},
   "outputs": [],
   "source": []
  },
  {
   "cell_type": "code",
   "execution_count": null,
   "metadata": {},
   "outputs": [],
   "source": []
  },
  {
   "cell_type": "code",
   "execution_count": null,
   "metadata": {},
   "outputs": [],
   "source": []
  },
  {
   "cell_type": "code",
   "execution_count": null,
   "metadata": {},
   "outputs": [],
   "source": []
  },
  {
   "cell_type": "code",
   "execution_count": null,
   "metadata": {},
   "outputs": [],
   "source": []
  },
  {
   "cell_type": "code",
   "execution_count": null,
   "metadata": {},
   "outputs": [],
   "source": []
  },
  {
   "cell_type": "code",
   "execution_count": null,
   "metadata": {},
   "outputs": [],
   "source": []
  },
  {
   "cell_type": "code",
   "execution_count": null,
   "metadata": {},
   "outputs": [],
   "source": []
  },
  {
   "cell_type": "markdown",
   "metadata": {},
   "source": [
    "## Building CNN"
   ]
  },
  {
   "cell_type": "code",
   "execution_count": null,
   "metadata": {},
   "outputs": [],
   "source": [
    "X_train_sel[0].shape"
   ]
  },
  {
   "cell_type": "code",
   "execution_count": null,
   "metadata": {},
   "outputs": [],
   "source": [
    "# Set up early stopping callback\n",
    "from keras.callbacks import EarlyStopping\n",
    "early_stop = EarlyStopping(monitor='val_loss', mode='min', verbose=1)"
   ]
  },
  {
   "cell_type": "code",
   "execution_count": null,
   "metadata": {},
   "outputs": [],
   "source": [
    "from keras import regularizers\n",
    "\n",
    "#INPUT dimensions\n",
    "INPUT_DIM = X_train_sel[0].shape\n",
    "\n",
    "model = Sequential()\n",
    "\n",
    "model.add(Conv1D(filters = 32, kernel_size = 3,activation ='relu', input_shape = INPUT_DIM ))\n",
    "model.add(Conv1D(filters = 32, kernel_size = 3, activation ='relu'))\n",
    "model.add(Dropout(0.2))\n",
    "\n",
    "model.add(Conv1D(filters = 32, kernel_size = 3,activation ='relu',padding='same'))\n",
    "model.add(Conv1D(filters = 32, kernel_size = 3, activation ='relu'))\n",
    "model.add(Dropout(0.2))\n",
    "\n",
    "model.add(Conv1D(filters = 64, kernel_size = 3, activation ='relu'))\n",
    "model.add(Conv1D(filters = 64, kernel_size = 3, activation ='relu', padding='same'))\n",
    "model.add(Dropout(0.2))\n",
    "\n",
    "\n",
    "model.add(Flatten())\n",
    "model.add(Dense(128, activation = \"relu\"))\n",
    "model.add(Dropout(0.5))\n",
    "model.add(Dense(2, activation = \"softmax\"))\n",
    "\n",
    "\n",
    "# Define the optimizer\n",
    "ADAM = Adam(learning_rate=0.001)\n",
    "\n",
    "# Compile the model\n",
    "model.compile(optimizer = ADAM, loss = \"sparse_categorical_crossentropy\", metrics=[\"accuracy\"])\n",
    "\n",
    "\n",
    "model.summary()"
   ]
  },
  {
   "cell_type": "code",
   "execution_count": null,
   "metadata": {},
   "outputs": [],
   "source": [
    "from keras.callbacks import ModelCheckpoint, History\n",
    "\n",
    "\n",
    "epoch = 40\n",
    "# Save model with best Val\n",
    "filepath=\"Best Weights.hdf5\"\n",
    "checkpoint = ModelCheckpoint(filepath, monitor='val_acc', verbose=1, save_best_only=True, mode='max')\n",
    "callbacks_list = [checkpoint, History()]\n",
    "\n",
    "\n",
    "# Fit the model\n",
    "history = model.fit(X_train_sel, y_train, batch_size= 128,\n",
    "                    epochs = epoch, validation_split=0.1,\n",
    "                    callbacks=callbacks_list, verbose = 1)"
   ]
  },
  {
   "cell_type": "code",
   "execution_count": null,
   "metadata": {},
   "outputs": [],
   "source": []
  },
  {
   "cell_type": "code",
   "execution_count": null,
   "metadata": {},
   "outputs": [],
   "source": [
    "#cnn.add(BatchNormalization()) # Batch normalization is a technique for training very deep neural networks \n",
    "                               # that standardizes the inputs to a layer for each mini-batch. This \n",
    "                               # has the effect of stabilizing the learning process and dramatically\n",
    "                               # reducing the number of training epochs required to train deep networks\n",
    "\n",
    "#cnn.add(Conv1D(64, 2, activation = \"relu\"))\n",
    "#cnn.add(Dropout(0.2))          # prevents over-fitting (randomly remove some neurons)"
   ]
  },
  {
   "cell_type": "code",
   "execution_count": null,
   "metadata": {},
   "outputs": [],
   "source": []
  },
  {
   "cell_type": "code",
   "execution_count": null,
   "metadata": {},
   "outputs": [],
   "source": [
    "X_train.shape[0:]"
   ]
  },
  {
   "cell_type": "code",
   "execution_count": null,
   "metadata": {},
   "outputs": [],
   "source": [
    "from keras.models import Sequential\n",
    "from keras import layers\n",
    "\n",
    "input_dim = X_train.shape[0:] # Number of features\n",
    "\n",
    "model = Sequential()\n",
    "\n",
    "model.add(layers.Dense(8, input_dim=input_dim, activation='relu'))\n",
    "\n",
    "model.add(Flatten())\n",
    "model.add(layers.Dense(2, activation='softmax'))\n"
   ]
  },
  {
   "cell_type": "code",
   "execution_count": null,
   "metadata": {},
   "outputs": [],
   "source": [
    "model.compile(loss='sparse_categorical_crossentropy', optimizer='adam', metrics=['accuracy'])\n",
    "model.summary()"
   ]
  },
  {
   "cell_type": "code",
   "execution_count": null,
   "metadata": {},
   "outputs": [],
   "source": [
    "history = model.fit(X_train, y_train, epochs=40, verbose=False, validation_data=(X_test, y_test), batch_size=10)"
   ]
  },
  {
   "cell_type": "code",
   "execution_count": null,
   "metadata": {},
   "outputs": [],
   "source": [
    "acc_train_cnn = (model.evaluate(X_train, y_train)[1]*100)\n",
    "acc_test_cnn = (model.evaluate(X_test, y_test)[1]*100)\n",
    "\n",
    "print('')\n",
    "print(\"CNN: Accuracy on training Data: \",(acc_train_cnn))\n",
    "print(\"CNN: Accuracy on test Data: \",(acc_test_cnn))\n"
   ]
  },
  {
   "cell_type": "code",
   "execution_count": null,
   "metadata": {},
   "outputs": [],
   "source": [
    "# Plot training & validation loss values\n",
    "plt.plot(history.history['loss'])\n",
    "plt.plot(history.history['val_loss'])\n",
    "plt.title('Model loss')\n",
    "plt.ylabel('Loss')\n",
    "plt.xlabel('Epoch')\n",
    "plt.legend(['Train', 'Validation'], loc='upper left')\n",
    "plt.show()\n",
    "\n",
    "\n",
    "# Plot training & validation accuracy values\n",
    "plt.plot(history.history['acc'])\n",
    "plt.plot(history.history['val_acc'])\n",
    "plt.title('Model accuracy')\n",
    "plt.ylabel('Accuracy')\n",
    "plt.xlabel('Epoch')\n",
    "plt.legend(['Train', 'Validation'], loc='upper left')\n",
    "plt.show()"
   ]
  },
  {
   "cell_type": "code",
   "execution_count": null,
   "metadata": {},
   "outputs": [],
   "source": [
    "acc_train_cnn = (model.evaluate(X_train, y_train)[1]*100)\n",
    "acc_test_cnn = (model.evaluate(X_test, y_test)[1]*100)\n",
    "\n",
    "print('')\n",
    "print(\"CNN: Accuracy on training Data: \",(acc_train_cnn))\n",
    "print(\"CNN: Accuracy on test Data: \",(acc_test_cnn))\n"
   ]
  },
  {
   "cell_type": "code",
   "execution_count": null,
   "metadata": {},
   "outputs": [],
   "source": [
    "\n",
    "\n",
    "\n",
    "#Predicting the Test set rules\n",
    "y_pred = model.predict(X_test)\n",
    "y_pred = np.argmax(y_pred, axis=1) \n",
    "y_true = np.argmax(X_test, axis=0) "
   ]
  },
  {
   "cell_type": "code",
   "execution_count": null,
   "metadata": {},
   "outputs": [],
   "source": [
    "y_true"
   ]
  },
  {
   "cell_type": "code",
   "execution_count": null,
   "metadata": {},
   "outputs": [],
   "source": [
    "history = cnnmodel.fit(X_train, y_train, validation_split=0.2, \n",
    "                    batch_size=128, epochs=40, verbose=2, callbacks=[early_stop])"
   ]
  },
  {
   "cell_type": "code",
   "execution_count": null,
   "metadata": {},
   "outputs": [],
   "source": [
    "#random.seed(37)\n",
    "#np.random.seed(1254)\n",
    "#tf.set_random_seed(89)\n",
    "\n",
    "# Specify training parameters\n",
    "\n",
    "L1 = l1(0.001)\n",
    "BATCH_SIZE = 128                  #-- Training Batch Size\n",
    "EPOCHS = 60                   #-- Number of epochs for training   \n",
    "NUM_CLASSES = 2                  #-- Number of classes in phishing dataset\n",
    "\n",
    "\n",
    "#lr_weight_decay = 0.95            #-- Learning weight decay. Reduce the learn rate by 0.95 after epoch\n",
    "\n",
    "\n",
    "#INPUT dimensions\n",
    "INPUT_DIM = X_train[0].shape\n",
    "\n",
    "# Define the optimizer\n",
    "ADAM = Adam(learning_rate=0.01)\n",
    "\n",
    "                                    # Define the model architecture\n",
    "#--Model Name\n",
    "proposed = Sequential(name=\"Proposed_Model\")\n",
    "    \n",
    "#--Input Layer\n",
    "proposed.add(Conv1D(40, 3, activation='relu', input_shape=INPUT_DIM))\n",
    "\n",
    "proposed.add(Conv1D(16, 8, strides=2, activation='relu', padding = \"same\"))\n",
    "proposed.add(MaxPooling1D(2))\n",
    "\n",
    "#proposed.add(Conv1D(32, 3, padding = \"same\", activation = \"relu\"))\n",
    "#proposed.add(MaxPooling1D((2)))\n",
    "\n",
    "proposed.add(Flatten())\n",
    "proposed.add(Dense(2, activation = \"softmax\"))\n",
    "proposed.add(Dropout(0.4))\n",
    "\n",
    "proposed.compile(optimizer = ADAM, loss = \"sparse_categorical_crossentropy\", metrics = [\"accuracy\"])\n",
    "\n",
    "proposed.summary()\n"
   ]
  },
  {
   "cell_type": "code",
   "execution_count": null,
   "metadata": {},
   "outputs": [],
   "source": [
    "# Train the Model\n",
    "\n",
    "import time\n",
    "start_time = time.time()\n",
    "\n",
    "print('Building model... \\n')\n",
    "\n",
    "history = proposed.fit(X_train, y_train, validation_split=0.1, \n",
    "                    batch_size=BATCH_SIZE, epochs=EPOCHS, verbose=2, callbacks=[early_stop])\n",
    "\n",
    "\n",
    "# Score metrics from the model\n",
    "print('')\n",
    "score = proposed.evaluate(X_test, y_test, verbose=2)\n",
    "\n",
    "# Displays the accuracy of correct sentiment prediction over test data\n",
    "print('')\n",
    "print(\"Test loss: %.2f%%\" % score[0])\n",
    "print(\"Test accuracy: %.2f%%\" % (score[1]*100))\n",
    "\n",
    "\n",
    "elapsed = time.strftime(\"%H:%M:%S\", time.gmtime(time.time() - start_time))\n",
    "print('\\n')\n",
    "print(f\"Runtime:  {elapsed}\")"
   ]
  },
  {
   "cell_type": "code",
   "execution_count": null,
   "metadata": {},
   "outputs": [],
   "source": [
    "# list all data in history\n",
    "print(history.history.keys())"
   ]
  },
  {
   "cell_type": "code",
   "execution_count": null,
   "metadata": {},
   "outputs": [],
   "source": [
    "# summarize history for accuracy\n",
    "plt.plot(history.history['acc'])\n",
    "plt.plot(history.history['val_acc'])\n",
    "plt.title('model accuracy')\n",
    "plt.ylabel('accuracy')\n",
    "plt.xlabel('epoch')\n",
    "plt.legend(['train', 'test'], loc='upper left')\n",
    "plt.show()\n",
    "\n",
    "# summarize history for loss\n",
    "plt.plot(history.history['loss'])\n",
    "plt.plot(history.history['val_loss'])\n",
    "plt.title('model loss')\n",
    "plt.ylabel('loss')\n",
    "plt.xlabel('epoch')\n",
    "plt.legend(['train', 'test'], loc='upper left')\n",
    "plt.show()\n",
    "\n",
    "\n"
   ]
  },
  {
   "cell_type": "code",
   "execution_count": null,
   "metadata": {},
   "outputs": [],
   "source": []
  }
 ],
 "metadata": {
  "kernelspec": {
   "display_name": "Python 3",
   "language": "python",
   "name": "python3"
  },
  "language_info": {
   "codemirror_mode": {
    "name": "ipython",
    "version": 3
   },
   "file_extension": ".py",
   "mimetype": "text/x-python",
   "name": "python",
   "nbconvert_exporter": "python",
   "pygments_lexer": "ipython3",
   "version": "3.8.5"
  }
 },
 "nbformat": 4,
 "nbformat_minor": 4
}
